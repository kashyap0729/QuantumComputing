{
  "cells": [
    {
      "cell_type": "markdown",
      "metadata": {},
      "source": [
        "# Quantum Approximate Optimization Algorithm\n",
        "\n",
        "In this assignment you will implement Quantum Approximate Optimization Algorithm (QAOA) to find bit strings that consist of alternating 0s and 1s."
      ]
    },
    {
      "cell_type": "code",
      "execution_count": 1,
      "metadata": {},
      "outputs": [
        {
          "data": {
            "application/javascript": "// Copyright (c) Microsoft Corporation.\n// Licensed under the MIT License.\n\n// This file provides CodeMirror syntax highlighting for Q# magic cells\n// in classic Jupyter Notebooks. It does nothing in other (Jupyter Notebook 7,\n// VS Code, Azure Notebooks, etc.) environments.\n\n// Detect the prerequisites and do nothing if they don't exist.\nif (window.require && window.CodeMirror && window.Jupyter) {\n  // The simple mode plugin for CodeMirror is not loaded by default, so require it.\n  window.require([\"codemirror/addon/mode/simple\"], function defineMode() {\n    let rules = [\n      {\n        token: \"comment\",\n        regex: /(\\/\\/).*/,\n        beginWord: false,\n      },\n      {\n        token: \"string\",\n        regex: String.raw`^\\\"(?:[^\\\"\\\\]|\\\\[\\s\\S])*(?:\\\"|$)`,\n        beginWord: false,\n      },\n      {\n        token: \"keyword\",\n        regex: String.raw`(namespace|open|as|operation|function|body|adjoint|newtype|controlled|internal)\\b`,\n        beginWord: true,\n      },\n      {\n        token: \"keyword\",\n        regex: String.raw`(if|elif|else|repeat|until|fixup|for|in|return|fail|within|apply)\\b`,\n        beginWord: true,\n      },\n      {\n        token: \"keyword\",\n        regex: String.raw`(Adjoint|Controlled|Adj|Ctl|is|self|auto|distribute|invert|intrinsic)\\b`,\n        beginWord: true,\n      },\n      {\n        token: \"keyword\",\n        regex: String.raw`(let|set|use|borrow|mutable)\\b`,\n        beginWord: true,\n      },\n      {\n        token: \"operatorKeyword\",\n        regex: String.raw`(not|and|or)\\b|(w/)`,\n        beginWord: true,\n      },\n      {\n        token: \"operatorKeyword\",\n        regex: String.raw`(=)|(!)|(<)|(>)|(\\+)|(-)|(\\*)|(/)|(\\^)|(%)|(\\|)|(&&&)|(~~~)|(\\.\\.\\.)|(\\.\\.)|(\\?)`,\n        beginWord: false,\n      },\n      {\n        token: \"meta\",\n        regex: String.raw`(Int|BigInt|Double|Bool|Qubit|Pauli|Result|Range|String|Unit)\\b`,\n        beginWord: true,\n      },\n      {\n        token: \"atom\",\n        regex: String.raw`(true|false|Pauli(I|X|Y|Z)|One|Zero)\\b`,\n        beginWord: true,\n      },\n    ];\n    let simpleRules = [];\n    for (let rule of rules) {\n      simpleRules.push({\n        token: rule.token,\n        regex: new RegExp(rule.regex, \"g\"),\n        sol: rule.beginWord,\n      });\n      if (rule.beginWord) {\n        // Need an additional rule due to the fact that CodeMirror simple mode doesn't work with ^ token\n        simpleRules.push({\n          token: rule.token,\n          regex: new RegExp(String.raw`\\W` + rule.regex, \"g\"),\n          sol: false,\n        });\n      }\n    }\n\n    // Register the mode defined above with CodeMirror\n    window.CodeMirror.defineSimpleMode(\"qsharp\", { start: simpleRules });\n    window.CodeMirror.defineMIME(\"text/x-qsharp\", \"qsharp\");\n\n    // Tell Jupyter to associate %%qsharp magic cells with the qsharp mode\n    window.Jupyter.CodeCell.options_default.highlight_modes[\"qsharp\"] = {\n      reg: [/^%%qsharp/],\n    };\n\n    // Force re-highlighting of all cells the first time this code runs\n    for (const cell of window.Jupyter.notebook.get_cells()) {\n      cell.auto_highlight();\n    }\n  });\n}\n",
            "text/plain": []
          },
          "metadata": {},
          "output_type": "display_data"
        }
      ],
      "source": [
        "import qsharp\n",
        "import scipy.optimize as sco\n"
      ]
    },
    {
      "cell_type": "code",
      "execution_count": 2,
      "metadata": {
        "vscode": {
          "languageId": "qsharp"
        }
      },
      "outputs": [],
      "source": [
        "%%qsharp\n",
        "\n",
        "open Microsoft.Quantum.Canon;\n",
        "open Microsoft.Quantum.Intrinsic;\n",
        "open Microsoft.Quantum.Math;\n"
      ]
    },
    {
      "cell_type": "markdown",
      "metadata": {
        "nteract": {
          "transient": {
            "deleting": false
          }
        }
      },
      "source": [
        "### Task 1. Classical cost function (1 point)\n",
        "\n",
        "The cost function $C(x)$ defines the cost of each possible input, and should be minimized for the inputs we're looking for - in this case the bit strings with alternating 0s and 1s $0101...$ and $1010...$.\n",
        "This cost function can be defined as the number of pairs of identical bits in adjacent positions:\n",
        "\n",
        "$$C(x) = \\sum_{i=0}^{N - 2} x_i = x_{i+1}$$\n",
        "\n",
        "For bit strings with alternating bits, all terms of the sum will be 0, achieving the minimal possible value of this cost function.\n",
        "\n",
        "**Input**: an array of integers $x$, each of them 0 or 1.\n",
        "\n",
        "**Output**: the value of the cost function $C(x)$."
      ]
    },
    {
      "cell_type": "code",
      "execution_count": 3,
      "metadata": {
        "jupyter": {
          "outputs_hidden": false,
          "source_hidden": false
        },
        "nteract": {
          "transient": {
            "deleting": false
          }
        }
      },
      "outputs": [
        {
          "name": "stdout",
          "output_type": "stream",
          "text": [
            "C([1, 0, 1]) = 0\n",
            "C([0, 1, 0, 1]) = 0\n",
            "C([1, 1, 1, 1]) = 3\n",
            "C([0, 1, 1, 0]) = 1\n"
          ]
        }
      ],
      "source": [
        "# Implement the cost function C \n",
        "def cost(x):\n",
        "    count =0\n",
        "    for i in range(0,len(x)-1):\n",
        "        j=i+1\n",
        "        if (x[i]==x[j]):\n",
        "            count += 1\n",
        "        else:\n",
        "            count +=0\n",
        "    return count\n",
        "\n",
        "# Evaluate the function on several inputs to check it's correct\n",
        "for x in [[1, 0, 1],\n",
        "          [0, 1, 0, 1],\n",
        "          [1, 1, 1, 1],\n",
        "          [0, 1, 1, 0]]:\n",
        "    print(f\"C({x}) = {cost(x)}\")"
      ]
    },
    {
      "cell_type": "markdown",
      "metadata": {},
      "source": [
        "### Task 2. QAOA Phase Change Unitary (4 points)\n",
        "\n",
        "**Inputs:**\n",
        "1. A qubit array of type `Qubit[]` - the input of the phase oracle.\n",
        "2. A `Double` - the value of the parameter $\\gamma$.\n",
        "\n",
        "**Goal:** \n",
        "Implement the first unitary used in QAOA - the phase change unitary. This unitary should implement the transformation\n",
        "\n",
        "$$U_C(\\gamma)|\\psi\\rangle = e^{-i\\gamma C(x)}|\\psi\\rangle$$\n",
        "\n",
        "> This cost function can be expressed as a sum of terms applied to adjacent pairs of qubits. This allows you to decompose the $U_C$ operator into a sequence of 1- and 2-qubit operations."
      ]
    },
    {
      "cell_type": "code",
      "execution_count": 6,
      "metadata": {
        "microsoft": {
          "language": "qsharp"
        },
        "vscode": {
          "languageId": "qsharp"
        }
      },
      "outputs": [],
      "source": [
        "%%qsharp\n",
        "operation AlternatingBitStringQAOAOracle(qs : Qubit[], gamma : Double) : Unit is Adj + Ctl {\n",
        "    // ...\n",
        "    let N = Length(qs);\n",
        "    \n",
        "    // Step 1: Flip qubits to get |0...0⟩ if the input bits are alternating.\n",
        "    for i in 1 .. N - 1 {\n",
        "        CNOT(qs[i - 1], qs[i]);\n",
        "    }\n",
        "    \n",
        "    // Step 2: Apply a phase of -1 if all qubits except the last are |0⟩.\n",
        "    // If the input was alternating, x[N - 1] will be |0⟩, so the multi-controlled Z\n",
        "    // will apply a -1 phase to the state.\n",
        "        (Controlled R1)(qs[0 .. N - 2], (2.0 * gamma, qs[N - 1]));\n",
        "    \n",
        "    // Step 3: Undo the transformation from Step 1.\n",
        "    for i in N - 1 .. -1 .. 1 {\n",
        "        CNOT(qs[i - 1], qs[i]);\n",
        "    }\n",
        "}"
      ]
    },
    {
      "cell_type": "markdown",
      "metadata": {},
      "source": [
        "The code below can be used to test your implementation. The `AlternatingBitStringQAOAOracleDemo` operation applies the `AlternatingBitStringQAOAOracle` operation to $N$ qubits, each in the $|+\\rangle$ state. Here are a couple of useful examples for testing:\n",
        "\n",
        "* For $N = 2$, the cost function $C(x)$ can take values 0 or 1. $\\gamma = \\pi$ allows to separate these cases nicely: basis states with $C(x) = 1$ will get $-1$ relative phase.\n",
        "* For $N = 3$, the cost function $C(x)$ can take values 0, 1 or 2. This means that with $\\gamma = \\frac{\\pi}{2}$ a basis state will remain unchanged ($C=0$) or acquire a relative phase $e^{-i\\frac{\\pi}{2}} = -i$ ($C=1$) or $e^{-i\\pi} = -1$ ($C=2$).\n",
        "\n",
        "Use the output of `DumpMachine` to check whether each basis state gains the correct phases. Remember that `DumpMachine` output can have an additional global phase."
      ]
    },
    {
      "cell_type": "code",
      "execution_count": 7,
      "metadata": {
        "microsoft": {
          "language": "qsharp"
        },
        "vscode": {
          "languageId": "qsharp"
        }
      },
      "outputs": [
        {
          "data": {
            "text/html": [
              "<table>\n",
              "  <thead>\n",
              "    <tr>\n",
              "      <th style=\"text-align: left\">Basis State<br />(|𝜓₁…𝜓ₙ⟩)</th>\n",
              "      <th style=\"text-align: left\">Amplitude</th>\n",
              "      <th style=\"text-align: left\">Measurement Probability</th>\n",
              "      <th style=\"text-align: left\" colspan=\"2\">Phase</th>\n",
              "    </tr>\n",
              "  </thead>\n",
              "  <tbody>\n",
              "    <tr>\n",
              "  <td style=\"text-align: left\">\n",
              "    <span style=\"display: inline-block\">|00⟩</span>\n",
              "  </td>\n",
              "  <td style=\"text-align: left\">\n",
              "    <span style=\"display: inline-block\">0.0000−0.5000𝑖</span>\n",
              "  </td>\n",
              "  <td style=\"text-align: left\">\n",
              "    <progress max=\"100\" value=\"25.00000000000001\"></progress>\n",
              "    <span style=\"display: inline-block\">25.0000%</span>\n",
              "  </td>\n",
              "  <td style=\"text-align: left; transform: rotate(-1.5708rad)\">↑</td>\n",
              "  <td style=\"text-align: left\">\n",
              "    <span style=\"display: inline-block\">-1.5708</span>\n",
              "  </td>\n",
              "</tr>\n",
              "<tr>\n",
              "  <td style=\"text-align: left\">\n",
              "    <span style=\"display: inline-block\">|01⟩</span>\n",
              "  </td>\n",
              "  <td style=\"text-align: left\">\n",
              "    <span style=\"display: inline-block\">0.0000−0.5000𝑖</span>\n",
              "  </td>\n",
              "  <td style=\"text-align: left\">\n",
              "    <progress max=\"100\" value=\"25.00000000000001\"></progress>\n",
              "    <span style=\"display: inline-block\">25.0000%</span>\n",
              "  </td>\n",
              "  <td style=\"text-align: left; transform: rotate(-1.5708rad)\">↑</td>\n",
              "  <td style=\"text-align: left\">\n",
              "    <span style=\"display: inline-block\">-1.5708</span>\n",
              "  </td>\n",
              "</tr>\n",
              "<tr>\n",
              "  <td style=\"text-align: left\">\n",
              "    <span style=\"display: inline-block\">|10⟩</span>\n",
              "  </td>\n",
              "  <td style=\"text-align: left\">\n",
              "    <span style=\"display: inline-block\">0.0000−0.5000𝑖</span>\n",
              "  </td>\n",
              "  <td style=\"text-align: left\">\n",
              "    <progress max=\"100\" value=\"25.00000000000001\"></progress>\n",
              "    <span style=\"display: inline-block\">25.0000%</span>\n",
              "  </td>\n",
              "  <td style=\"text-align: left; transform: rotate(-1.5708rad)\">↑</td>\n",
              "  <td style=\"text-align: left\">\n",
              "    <span style=\"display: inline-block\">-1.5708</span>\n",
              "  </td>\n",
              "</tr>\n",
              "<tr>\n",
              "  <td style=\"text-align: left\">\n",
              "    <span style=\"display: inline-block\">|11⟩</span>\n",
              "  </td>\n",
              "  <td style=\"text-align: left\">\n",
              "    <span style=\"display: inline-block\">0.0000−0.5000𝑖</span>\n",
              "  </td>\n",
              "  <td style=\"text-align: left\">\n",
              "    <progress max=\"100\" value=\"25.00000000000001\"></progress>\n",
              "    <span style=\"display: inline-block\">25.0000%</span>\n",
              "  </td>\n",
              "  <td style=\"text-align: left; transform: rotate(-1.5708rad)\">↑</td>\n",
              "  <td style=\"text-align: left\">\n",
              "    <span style=\"display: inline-block\">-1.5708</span>\n",
              "  </td>\n",
              "</tr>\n",
              "\n",
              "  </tbody>\n",
              "</table>\n"
            ],
            "text/plain": [
              "STATE:\n",
              "|00⟩: 0.0000−0.5000𝑖\n",
              "|01⟩: 0.0000−0.5000𝑖\n",
              "|10⟩: 0.0000−0.5000𝑖\n",
              "|11⟩: 0.0000−0.5000𝑖"
            ]
          },
          "metadata": {},
          "output_type": "display_data"
        },
        {
          "data": {
            "text/html": [
              "<table>\n",
              "  <thead>\n",
              "    <tr>\n",
              "      <th style=\"text-align: left\">Basis State<br />(|𝜓₁…𝜓ₙ⟩)</th>\n",
              "      <th style=\"text-align: left\">Amplitude</th>\n",
              "      <th style=\"text-align: left\">Measurement Probability</th>\n",
              "      <th style=\"text-align: left\" colspan=\"2\">Phase</th>\n",
              "    </tr>\n",
              "  </thead>\n",
              "  <tbody>\n",
              "    <tr>\n",
              "  <td style=\"text-align: left\">\n",
              "    <span style=\"display: inline-block\">|000⟩</span>\n",
              "  </td>\n",
              "  <td style=\"text-align: left\">\n",
              "    <span style=\"display: inline-block\">0.2500−0.2500𝑖</span>\n",
              "  </td>\n",
              "  <td style=\"text-align: left\">\n",
              "    <progress max=\"100\" value=\"12.500000000000005\"></progress>\n",
              "    <span style=\"display: inline-block\">12.5000%</span>\n",
              "  </td>\n",
              "  <td style=\"text-align: left; transform: rotate(-0.7854rad)\">↑</td>\n",
              "  <td style=\"text-align: left\">\n",
              "    <span style=\"display: inline-block\">-0.7854</span>\n",
              "  </td>\n",
              "</tr>\n",
              "<tr>\n",
              "  <td style=\"text-align: left\">\n",
              "    <span style=\"display: inline-block\">|001⟩</span>\n",
              "  </td>\n",
              "  <td style=\"text-align: left\">\n",
              "    <span style=\"display: inline-block\">0.2500−0.2500𝑖</span>\n",
              "  </td>\n",
              "  <td style=\"text-align: left\">\n",
              "    <progress max=\"100\" value=\"12.500000000000005\"></progress>\n",
              "    <span style=\"display: inline-block\">12.5000%</span>\n",
              "  </td>\n",
              "  <td style=\"text-align: left; transform: rotate(-0.7854rad)\">↑</td>\n",
              "  <td style=\"text-align: left\">\n",
              "    <span style=\"display: inline-block\">-0.7854</span>\n",
              "  </td>\n",
              "</tr>\n",
              "<tr>\n",
              "  <td style=\"text-align: left\">\n",
              "    <span style=\"display: inline-block\">|010⟩</span>\n",
              "  </td>\n",
              "  <td style=\"text-align: left\">\n",
              "    <span style=\"display: inline-block\">0.2500−0.2500𝑖</span>\n",
              "  </td>\n",
              "  <td style=\"text-align: left\">\n",
              "    <progress max=\"100\" value=\"12.500000000000005\"></progress>\n",
              "    <span style=\"display: inline-block\">12.5000%</span>\n",
              "  </td>\n",
              "  <td style=\"text-align: left; transform: rotate(-0.7854rad)\">↑</td>\n",
              "  <td style=\"text-align: left\">\n",
              "    <span style=\"display: inline-block\">-0.7854</span>\n",
              "  </td>\n",
              "</tr>\n",
              "<tr>\n",
              "  <td style=\"text-align: left\">\n",
              "    <span style=\"display: inline-block\">|011⟩</span>\n",
              "  </td>\n",
              "  <td style=\"text-align: left\">\n",
              "    <span style=\"display: inline-block\">0.2500−0.2500𝑖</span>\n",
              "  </td>\n",
              "  <td style=\"text-align: left\">\n",
              "    <progress max=\"100\" value=\"12.500000000000005\"></progress>\n",
              "    <span style=\"display: inline-block\">12.5000%</span>\n",
              "  </td>\n",
              "  <td style=\"text-align: left; transform: rotate(-0.7854rad)\">↑</td>\n",
              "  <td style=\"text-align: left\">\n",
              "    <span style=\"display: inline-block\">-0.7854</span>\n",
              "  </td>\n",
              "</tr>\n",
              "<tr>\n",
              "  <td style=\"text-align: left\">\n",
              "    <span style=\"display: inline-block\">|100⟩</span>\n",
              "  </td>\n",
              "  <td style=\"text-align: left\">\n",
              "    <span style=\"display: inline-block\">−0.2500+0.2500𝑖</span>\n",
              "  </td>\n",
              "  <td style=\"text-align: left\">\n",
              "    <progress max=\"100\" value=\"12.500000000000005\"></progress>\n",
              "    <span style=\"display: inline-block\">12.5000%</span>\n",
              "  </td>\n",
              "  <td style=\"text-align: left; transform: rotate(2.3562rad)\">↑</td>\n",
              "  <td style=\"text-align: left\">\n",
              "    <span style=\"display: inline-block\">2.3562</span>\n",
              "  </td>\n",
              "</tr>\n",
              "<tr>\n",
              "  <td style=\"text-align: left\">\n",
              "    <span style=\"display: inline-block\">|101⟩</span>\n",
              "  </td>\n",
              "  <td style=\"text-align: left\">\n",
              "    <span style=\"display: inline-block\">0.2500−0.2500𝑖</span>\n",
              "  </td>\n",
              "  <td style=\"text-align: left\">\n",
              "    <progress max=\"100\" value=\"12.500000000000005\"></progress>\n",
              "    <span style=\"display: inline-block\">12.5000%</span>\n",
              "  </td>\n",
              "  <td style=\"text-align: left; transform: rotate(-0.7854rad)\">↑</td>\n",
              "  <td style=\"text-align: left\">\n",
              "    <span style=\"display: inline-block\">-0.7854</span>\n",
              "  </td>\n",
              "</tr>\n",
              "<tr>\n",
              "  <td style=\"text-align: left\">\n",
              "    <span style=\"display: inline-block\">|110⟩</span>\n",
              "  </td>\n",
              "  <td style=\"text-align: left\">\n",
              "    <span style=\"display: inline-block\">0.2500−0.2500𝑖</span>\n",
              "  </td>\n",
              "  <td style=\"text-align: left\">\n",
              "    <progress max=\"100\" value=\"12.500000000000005\"></progress>\n",
              "    <span style=\"display: inline-block\">12.5000%</span>\n",
              "  </td>\n",
              "  <td style=\"text-align: left; transform: rotate(-0.7854rad)\">↑</td>\n",
              "  <td style=\"text-align: left\">\n",
              "    <span style=\"display: inline-block\">-0.7854</span>\n",
              "  </td>\n",
              "</tr>\n",
              "<tr>\n",
              "  <td style=\"text-align: left\">\n",
              "    <span style=\"display: inline-block\">|111⟩</span>\n",
              "  </td>\n",
              "  <td style=\"text-align: left\">\n",
              "    <span style=\"display: inline-block\">0.2500−0.2500𝑖</span>\n",
              "  </td>\n",
              "  <td style=\"text-align: left\">\n",
              "    <progress max=\"100\" value=\"12.500000000000005\"></progress>\n",
              "    <span style=\"display: inline-block\">12.5000%</span>\n",
              "  </td>\n",
              "  <td style=\"text-align: left; transform: rotate(-0.7854rad)\">↑</td>\n",
              "  <td style=\"text-align: left\">\n",
              "    <span style=\"display: inline-block\">-0.7854</span>\n",
              "  </td>\n",
              "</tr>\n",
              "\n",
              "  </tbody>\n",
              "</table>\n"
            ],
            "text/plain": [
              "STATE:\n",
              "|000⟩: 0.2500−0.2500𝑖\n",
              "|001⟩: 0.2500−0.2500𝑖\n",
              "|010⟩: 0.2500−0.2500𝑖\n",
              "|011⟩: 0.2500−0.2500𝑖\n",
              "|100⟩: −0.2500+0.2500𝑖\n",
              "|101⟩: 0.2500−0.2500𝑖\n",
              "|110⟩: 0.2500−0.2500𝑖\n",
              "|111⟩: 0.2500−0.2500𝑖"
            ]
          },
          "metadata": {},
          "output_type": "display_data"
        }
      ],
      "source": [
        "%%qsharp\n",
        "open Microsoft.Quantum.Diagnostics;\n",
        "open Microsoft.Quantum.Math;\n",
        "\n",
        "operation AlternatingBitStringQAOAOracleDemo(N : Int, gamma : Double) : Unit {\n",
        "    use qs = Qubit[N];\n",
        "    ApplyToEach(H, qs);\n",
        "    AlternatingBitStringQAOAOracle(qs, gamma);\n",
        "    DumpMachine();\n",
        "    ResetAll(qs);\n",
        "}\n",
        "\n",
        "AlternatingBitStringQAOAOracleDemo(2, PI())\n",
        "AlternatingBitStringQAOAOracleDemo(3, PI()/2.0)"
      ]
    },
    {
      "cell_type": "markdown",
      "metadata": {},
      "source": [
        "### Task 3. QAOA Mixer Unitary (3 points)\n",
        "\n",
        "**Inputs:**\n",
        "1. A qubit array of type `Qubit[]` - the input of the mixer unitary.\n",
        "2. A `Double` - the value of the parameter $\\beta$.\n",
        "\n",
        "**Goal:** \n",
        "Implement the second unitary used in QAOA - the mixer. This unitary should implement the transformation\n",
        "$${\\displaystyle \\prod_{j=0}^{N-1} e^{-i\\beta X_j}},$$\n",
        "where $X_j$ is the Pauli X operator acting on qubit j. By definition,\n",
        "$$e^{i\\theta X} = \\begin{bmatrix} \\cos(\\theta) & i\\sin(\\theta) \\\\ i\\sin(\\theta) & cos(\\theta) \\end{bmatrix}$$"
      ]
    },
    {
      "cell_type": "code",
      "execution_count": 12,
      "metadata": {
        "microsoft": {
          "language": "qsharp"
        },
        "vscode": {
          "languageId": "qsharp"
        }
      },
      "outputs": [],
      "source": [
        "%%qsharp\n",
        "operation Mixer(qs : Qubit[], beta : Double) : Unit is Adj + Ctl {\n",
        "    // ...\n",
        "   for i in 0 .. Length(qs) - 1 {\n",
        "        Rx(2.0 * beta, qs[i]);\n",
        "    }\n",
        "}"
      ]
    },
    {
      "cell_type": "markdown",
      "metadata": {},
      "source": [
        "The code below can be used to test your implementation. It will output the matrix representation of the `Mixer` operation called with 1 qubit and several different parameters $\\beta$. \n",
        "\n",
        "> Remember that, same as `DumpMachine`, output of `dump_operation` can have a global phase; if you need to get rid of it, modify the Q# code to add a wrapper that calls a controlled variant of `Mixer` (the wrapper should not have specializations), and use `dump_operation` to print the matrix of that controlled variant."
      ]
    },
    {
      "cell_type": "code",
      "execution_count": 13,
      "metadata": {
        "microsoft": {
          "language": "qsharp"
        }
      },
      "outputs": [
        {
          "ename": "QSharpError",
          "evalue": "\u001b[31mQsc.TypeCk.FunctorMismatch\u001b[0m\n\n  \u001b[31m×\u001b[0m type error\n\u001b[31m  ╰─▶ \u001b[0mexpected empty set, found Adj + Ctl\n   ╭─[\u001b[36;1;4m<entry>\u001b[0m:1:1]\n \u001b[2m1\u001b[0m │ {\n \u001b[2m2\u001b[0m │         let op : (Qubit[] => Unit) = Mixer(_, 0.0);\n   · \u001b[35;1m                                     ─────────────\u001b[0m\n \u001b[2m3\u001b[0m │         use (targets, extra) = (Qubit[1], Qubit[1]);\n   ╰────\n",
          "output_type": "error",
          "traceback": [
            "\u001b[1;31m---------------------------------------------------------------------------\u001b[0m",
            "\u001b[1;31mQSharpError\u001b[0m                               Traceback (most recent call last)",
            "Cell \u001b[1;32mIn[13], line 3\u001b[0m\n\u001b[0;32m      1\u001b[0m \u001b[38;5;28;01mfrom\u001b[39;00m \u001b[38;5;21;01mqsharp\u001b[39;00m\u001b[38;5;21;01m.\u001b[39;00m\u001b[38;5;21;01mutils\u001b[39;00m \u001b[38;5;28;01mimport\u001b[39;00m dump_operation\n\u001b[1;32m----> 3\u001b[0m \u001b[38;5;28mprint\u001b[39m(dump_operation(\u001b[38;5;124mf\u001b[39m\u001b[38;5;124m\"\u001b[39m\u001b[38;5;124mMixer(_, 0.0)\u001b[39m\u001b[38;5;124m\"\u001b[39m, \u001b[38;5;241m1\u001b[39m))\n\u001b[0;32m      4\u001b[0m \u001b[38;5;28mprint\u001b[39m(dump_operation(\u001b[38;5;124mf\u001b[39m\u001b[38;5;124m\"\u001b[39m\u001b[38;5;124mMixer(_, PI() / 4.0)\u001b[39m\u001b[38;5;124m\"\u001b[39m, \u001b[38;5;241m1\u001b[39m))\n\u001b[0;32m      5\u001b[0m \u001b[38;5;28mprint\u001b[39m(dump_operation(\u001b[38;5;124mf\u001b[39m\u001b[38;5;124m\"\u001b[39m\u001b[38;5;124mMixer(_, PI() / 2.0)\u001b[39m\u001b[38;5;124m\"\u001b[39m, \u001b[38;5;241m1\u001b[39m))\n",
            "File \u001b[1;32mc:\\Users\\kashy\\anaconda3\\Lib\\site-packages\\qsharp\\utils\\_utils.py:29\u001b[0m, in \u001b[0;36mdump_operation\u001b[1;34m(operation, num_qubits)\u001b[0m\n\u001b[0;32m     10\u001b[0m \u001b[38;5;250m\u001b[39m\u001b[38;5;124;03m\"\"\"\u001b[39;00m\n\u001b[0;32m     11\u001b[0m \u001b[38;5;124;03mReturns a square matrix of complex numbers representing the operation performed.\u001b[39;00m\n\u001b[0;32m     12\u001b[0m \n\u001b[1;32m   (...)\u001b[0m\n\u001b[0;32m     16\u001b[0m \u001b[38;5;124;03m:returns: The matrix representing the operation.\u001b[39;00m\n\u001b[0;32m     17\u001b[0m \u001b[38;5;124;03m\"\"\"\u001b[39;00m\n\u001b[0;32m     18\u001b[0m code \u001b[38;5;241m=\u001b[39m \u001b[38;5;124mf\u001b[39m\u001b[38;5;124m\"\"\"\u001b[39m\u001b[38;5;130;01m{{\u001b[39;00m\n\u001b[0;32m     19\u001b[0m \u001b[38;5;124m    let op : (Qubit[] => Unit) = \u001b[39m\u001b[38;5;132;01m{\u001b[39;00moperation\u001b[38;5;132;01m}\u001b[39;00m\u001b[38;5;124m;\u001b[39m\n\u001b[0;32m     20\u001b[0m \u001b[38;5;124m    use (targets, extra) = (Qubit[\u001b[39m\u001b[38;5;132;01m{\u001b[39;00mnum_qubits\u001b[38;5;132;01m}\u001b[39;00m\u001b[38;5;124m], Qubit[\u001b[39m\u001b[38;5;132;01m{\u001b[39;00mnum_qubits\u001b[38;5;132;01m}\u001b[39;00m\u001b[38;5;124m]);\u001b[39m\n\u001b[1;32m   (...)\u001b[0m\n\u001b[0;32m     27\u001b[0m \u001b[38;5;124m        ResetAll(targets + extra);\u001b[39m\n\u001b[0;32m     28\u001b[0m \u001b[38;5;124m\u001b[39m\u001b[38;5;130;01m}}\u001b[39;00m\u001b[38;5;124m\"\"\"\u001b[39m\n\u001b[1;32m---> 29\u001b[0m result \u001b[38;5;241m=\u001b[39m run(code, shots\u001b[38;5;241m=\u001b[39m\u001b[38;5;241m1\u001b[39m, save_events\u001b[38;5;241m=\u001b[39m\u001b[38;5;28;01mTrue\u001b[39;00m)[\u001b[38;5;241m0\u001b[39m]\n\u001b[0;32m     30\u001b[0m state \u001b[38;5;241m=\u001b[39m result[\u001b[38;5;124m\"\u001b[39m\u001b[38;5;124mevents\u001b[39m\u001b[38;5;124m\"\u001b[39m][\u001b[38;5;241m-\u001b[39m\u001b[38;5;241m1\u001b[39m]\u001b[38;5;241m.\u001b[39mstate_dump()\u001b[38;5;241m.\u001b[39mget_dict()\n\u001b[0;32m     31\u001b[0m num_entries \u001b[38;5;241m=\u001b[39m \u001b[38;5;28mpow\u001b[39m(\u001b[38;5;241m2\u001b[39m, num_qubits)\n",
            "File \u001b[1;32mc:\\Users\\kashy\\anaconda3\\Lib\\site-packages\\qsharp\\_qsharp.py:165\u001b[0m, in \u001b[0;36mrun\u001b[1;34m(entry_expr, shots, on_result, save_events)\u001b[0m\n\u001b[0;32m    163\u001b[0m \u001b[38;5;28;01mfor\u001b[39;00m _ \u001b[38;5;129;01min\u001b[39;00m \u001b[38;5;28mrange\u001b[39m(shots):\n\u001b[0;32m    164\u001b[0m     results\u001b[38;5;241m.\u001b[39mappend({\u001b[38;5;124m\"\u001b[39m\u001b[38;5;124mresult\u001b[39m\u001b[38;5;124m\"\u001b[39m: \u001b[38;5;28;01mNone\u001b[39;00m, \u001b[38;5;124m\"\u001b[39m\u001b[38;5;124mevents\u001b[39m\u001b[38;5;124m\"\u001b[39m: []})\n\u001b[1;32m--> 165\u001b[0m     run_results \u001b[38;5;241m=\u001b[39m get_interpreter()\u001b[38;5;241m.\u001b[39mrun(\n\u001b[0;32m    166\u001b[0m         entry_expr, on_save_events \u001b[38;5;28;01mif\u001b[39;00m save_events \u001b[38;5;28;01melse\u001b[39;00m print_output\n\u001b[0;32m    167\u001b[0m     )\n\u001b[0;32m    168\u001b[0m     results[\u001b[38;5;241m-\u001b[39m\u001b[38;5;241m1\u001b[39m][\u001b[38;5;124m\"\u001b[39m\u001b[38;5;124mresult\u001b[39m\u001b[38;5;124m\"\u001b[39m] \u001b[38;5;241m=\u001b[39m run_results\n\u001b[0;32m    169\u001b[0m     \u001b[38;5;28;01mif\u001b[39;00m on_result:\n",
            "\u001b[1;31mQSharpError\u001b[0m: \u001b[31mQsc.TypeCk.FunctorMismatch\u001b[0m\n\n  \u001b[31m×\u001b[0m type error\n\u001b[31m  ╰─▶ \u001b[0mexpected empty set, found Adj + Ctl\n   ╭─[\u001b[36;1;4m<entry>\u001b[0m:1:1]\n \u001b[2m1\u001b[0m │ {\n \u001b[2m2\u001b[0m │         let op : (Qubit[] => Unit) = Mixer(_, 0.0);\n   · \u001b[35;1m                                     ─────────────\u001b[0m\n \u001b[2m3\u001b[0m │         use (targets, extra) = (Qubit[1], Qubit[1]);\n   ╰────\n"
          ]
        }
      ],
      "source": [
        "from qsharp.utils import dump_operation\n",
        "\n",
        "print(dump_operation(f\"Mixer(_, 0.0)\", 1))\n",
        "print(dump_operation(f\"Mixer(_, PI() / 4.0)\", 1))\n",
        "print(dump_operation(f\"Mixer(_, PI() / 2.0)\", 1))"
      ]
    },
    {
      "cell_type": "markdown",
      "metadata": {},
      "source": [
        "### Task 4. Implement depth 1 QAOA to find the optimal parameters $\\beta$ and $\\gamma$ (2 points)\n",
        "\n",
        "**Inputs:**\n",
        "\n",
        "1. $N$ - the length of the bit string in the optimization problem.\n",
        "2. `gamma` and `beta` - `Double` values $\\gamma$ and $\\beta$.\n",
        "\n",
        "**Output:**\n",
        "\n",
        "An array of type `Int` representing measurement results of the $N$ qubits used in QAOA: 0 and 1 values represent measurement results `Zero` and `One`, respectively.\n",
        "\n",
        "**Goal:** Implement operation `RunQAOA` to run depth 1 QAOA with the given parameters $\\beta$ and $\\gamma$. Then, use the Python code below to perform classical optimization to identify optimal $\\gamma$ and $\\beta$ values for the circuit, and use these parameters to get the solution to the problem for N = 2 .. 5."
      ]
    },
    {
      "cell_type": "code",
      "execution_count": null,
      "metadata": {
        "microsoft": {
          "language": "qsharp"
        },
        "vscode": {
          "languageId": "qsharp"
        }
      },
      "outputs": [],
      "source": [
        "%%qsharp\n",
        "open Microsoft.Quantum.Measurement;\n",
        "open Microsoft.Quantum.Arrays;\n",
        "\n",
        "operation RunQAOA(N : Int, gamma : Double, beta : Double) : Int[] {\n",
        "    // ...\n",
        "}"
      ]
    },
    {
      "cell_type": "markdown",
      "metadata": {
        "nteract": {
          "transient": {
            "deleting": false
          }
        }
      },
      "source": [
        "The following Python code uses classical optimization method from `scipy.optimize` to find the parameters $\\beta$ and $\\gamma$ that minimize the average cost of the configuration produced by the QAOA run for bit strings of different lengths. Note that if your solution is correct, you should get correct results (bit strings with alternating bits) with reasonably high probability."
      ]
    },
    {
      "cell_type": "code",
      "execution_count": null,
      "metadata": {},
      "outputs": [],
      "source": [
        "from functools import partial\n",
        "\n",
        "def multishot_cost(N, parameters):\n",
        "    shots = 30\n",
        "    total_cost = 0\n",
        "    for i in range(shots):\n",
        "        result = qsharp.eval(f\"RunQAOA({N}, {parameters[0]}, {parameters[1]})\")\n",
        "        total_cost += cost(result) \n",
        "    return total_cost / shots\n",
        "\n",
        "def answer_freq(N, parameters):\n",
        "    dict = {}\n",
        "    shots = 100\n",
        "    for i in range(shots):\n",
        "        result = qsharp.eval(f\"RunQAOA({N}, {parameters[0]}, {parameters[1]})\")\n",
        "        key = ''.join(map(str, result))\n",
        "        if key in dict:\n",
        "            dict[key] = dict[key] + 1\n",
        "        else:\n",
        "            dict[key] = 1\n",
        "    return {k : (v / shots) for k, v in dict.items()}\n",
        "\n",
        "for N in range(2, 6):\n",
        "    out = sco.minimize(partial(multishot_cost, N), [1, 1], method=\"COBYLA\", options={'maxiter':50})\n",
        "    print(f\"Optimal Values for N = {N}:\")\n",
        "    print(\"γ = {:.2f}\".format(out.x[0]))\n",
        "    print(\"β = {:.2f}\".format(out.x[1]))\n",
        "    ans = answer_freq(N, out.x)\n",
        "    print(sorted(ans.items(), key=lambda x:x[1], reverse=True))"
      ]
    }
  ],
  "metadata": {
    "kernel_info": {
      "name": "python3"
    },
    "kernelspec": {
      "display_name": "Python 3 (ipykernel)",
      "language": "python",
      "name": "python3"
    },
    "language_info": {
      "codemirror_mode": {
        "name": "ipython",
        "version": 3
      },
      "file_extension": ".py",
      "mimetype": "text/x-python",
      "name": "python",
      "nbconvert_exporter": "python",
      "pygments_lexer": "ipython3",
      "version": "3.11.5"
    },
    "nteract": {
      "version": "nteract-front-end@1.0.0"
    },
    "orig_nbformat": 4,
    "vscode": {
      "interpreter": {
        "hash": "1cde0123ad091c17bb3dac1610a1b00e4cc7ccaccc904fd2e4f3100417f26ae7"
      }
    }
  },
  "nbformat": 4,
  "nbformat_minor": 2
}
