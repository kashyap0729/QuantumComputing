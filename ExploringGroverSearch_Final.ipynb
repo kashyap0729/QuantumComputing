{
  "cells": [
    {
      "cell_type": "markdown",
      "source": [
        "# Programming Assignment 7. Exploring Grover's Search Algorithm\n",
        "\n",
        "In this assignment, you will explore the behavior of Grover's search algorithm on problem instances of increasing size. The problem we'll consider is finding bit strings that consisting of alternating bit pairs."
      ],
      "metadata": {}
    },
    {
      "cell_type": "code",
      "source": [
        "import matplotlib.pyplot as plt\n",
        "import qsharp"
      ],
      "outputs": [
        {
          "output_type": "display_data",
          "data": {
            "text/plain": "",
            "application/javascript": ""
          },
          "metadata": {}
        }
      ],
      "execution_count": 1,
      "metadata": {}
    },
    {
      "cell_type": "code",
      "source": [
        "pip freeze"
      ],
      "outputs": [],
      "execution_count": null,
      "metadata": {}
    },
    {
      "cell_type": "code",
      "source": [
        "pip show qsharp"
      ],
      "outputs": [
        {
          "output_type": "stream",
          "name": "stdout",
          "text": "Name: qsharp\r\nVersion: 1.0.34.dev0\r\nSummary: Q# Python Bindings\r\nHome-page: https://github.com/microsoft/qsharp\r\nAuthor: Microsoft\r\nAuthor-email: \r\nLicense: MIT\r\nLocation: /usr/local/lib/python3.9/site-packages\r\nRequires: \r\nRequired-by: \r\nNote: you may need to restart the kernel to use updated packages.\n"
        }
      ],
      "execution_count": 2,
      "metadata": {}
    },
    {
      "cell_type": "code",
      "source": [
        "pip install --upgrade azure-quantum"
      ],
      "outputs": [
        {
          "output_type": "stream",
          "name": "stdout",
          "text": "Defaulting to user installation because normal site-packages is not writeable\nRequirement already satisfied: azure-quantum in ./.local/lib/python3.9/site-packages (1.2.1)\nRequirement already satisfied: azure-core<2.0,>=1.30 in ./.local/lib/python3.9/site-packages (from azure-quantum) (1.30.1)\nRequirement already satisfied: azure-identity<2.0,>=1.15 in /usr/local/lib/python3.9/site-packages (from azure-quantum) (1.15.0)\nRequirement already satisfied: azure-storage-blob<13.0,>=12.19 in /usr/local/lib/python3.9/site-packages (from azure-quantum) (12.19.0)\nRequirement already satisfied: msrest<1.0,>=0.7.1 in /usr/local/lib/python3.9/site-packages (from azure-quantum) (0.7.1)\nRequirement already satisfied: numpy<2.0,>=1.21.0 in /usr/local/lib/python3.9/site-packages (from azure-quantum) (1.23.5)\nRequirement already satisfied: deprecated<2.0,>=1.2.12 in /usr/local/lib/python3.9/site-packages (from azure-quantum) (1.2.14)\nRequirement already satisfied: Markdown>=3.4.1 in /usr/local/lib/python3.9/site-packages (from azure-quantum) (3.5.2)\nRequirement already satisfied: python-markdown-math>=0.8 in /usr/local/lib/python3.9/site-packages (from azure-quantum) (0.8)\nRequirement already satisfied: requests>=2.21.0 in /usr/local/lib/python3.9/site-packages (from azure-core<2.0,>=1.30->azure-quantum) (2.31.0)\nRequirement already satisfied: six>=1.11.0 in /usr/local/lib/python3.9/site-packages (from azure-core<2.0,>=1.30->azure-quantum) (1.16.0)\nRequirement already satisfied: typing-extensions>=4.6.0 in /usr/local/lib/python3.9/site-packages (from azure-core<2.0,>=1.30->azure-quantum) (4.9.0)\nRequirement already satisfied: cryptography>=2.5 in /usr/local/lib/python3.9/site-packages (from azure-identity<2.0,>=1.15->azure-quantum) (42.0.0)\nRequirement already satisfied: msal<2.0.0,>=1.24.0 in /usr/local/lib/python3.9/site-packages (from azure-identity<2.0,>=1.15->azure-quantum) (1.26.0)\nRequirement already satisfied: msal-extensions<2.0.0,>=0.3.0 in /usr/local/lib/python3.9/site-packages (from azure-identity<2.0,>=1.15->azure-quantum) (1.1.0)\nRequirement already satisfied: isodate>=0.6.1 in /usr/local/lib/python3.9/site-packages (from azure-storage-blob<13.0,>=12.19->azure-quantum) (0.6.1)\nRequirement already satisfied: wrapt<2,>=1.10 in /usr/local/lib/python3.9/site-packages (from deprecated<2.0,>=1.2.12->azure-quantum) (1.16.0)\nRequirement already satisfied: importlib-metadata>=4.4 in /usr/local/lib/python3.9/site-packages (from Markdown>=3.4.1->azure-quantum) (7.0.1)\nRequirement already satisfied: certifi>=2017.4.17 in /usr/local/lib/python3.9/site-packages (from msrest<1.0,>=0.7.1->azure-quantum) (2023.11.17)\nRequirement already satisfied: requests-oauthlib>=0.5.0 in /usr/local/lib/python3.9/site-packages (from msrest<1.0,>=0.7.1->azure-quantum) (1.3.1)\nRequirement already satisfied: cffi>=1.12 in /usr/local/lib/python3.9/site-packages (from cryptography>=2.5->azure-identity<2.0,>=1.15->azure-quantum) (1.16.0)\nRequirement already satisfied: zipp>=0.5 in /usr/local/lib/python3.9/site-packages (from importlib-metadata>=4.4->Markdown>=3.4.1->azure-quantum) (3.17.0)\nRequirement already satisfied: PyJWT<3,>=1.0.0 in /usr/local/lib/python3.9/site-packages (from PyJWT[crypto]<3,>=1.0.0->msal<2.0.0,>=1.24.0->azure-identity<2.0,>=1.15->azure-quantum) (2.8.0)\nRequirement already satisfied: packaging in /usr/local/lib/python3.9/site-packages (from msal-extensions<2.0.0,>=0.3.0->azure-identity<2.0,>=1.15->azure-quantum) (23.2)\nRequirement already satisfied: portalocker<3,>=1.0 in /usr/local/lib/python3.9/site-packages (from msal-extensions<2.0.0,>=0.3.0->azure-identity<2.0,>=1.15->azure-quantum) (2.8.2)\nRequirement already satisfied: charset-normalizer<4,>=2 in /usr/local/lib/python3.9/site-packages (from requests>=2.21.0->azure-core<2.0,>=1.30->azure-quantum) (3.3.2)\nRequirement already satisfied: idna<4,>=2.5 in /usr/local/lib/python3.9/site-packages (from requests>=2.21.0->azure-core<2.0,>=1.30->azure-quantum) (3.6)\nRequirement already satisfied: urllib3<3,>=1.21.1 in /usr/local/lib/python3.9/site-packages (from requests>=2.21.0->azure-core<2.0,>=1.30->azure-quantum) (2.1.0)\nRequirement already satisfied: oauthlib>=3.0.0 in /usr/local/lib/python3.9/site-packages (from requests-oauthlib>=0.5.0->msrest<1.0,>=0.7.1->azure-quantum) (3.2.2)\nRequirement already satisfied: pycparser in /usr/local/lib/python3.9/site-packages (from cffi>=1.12->cryptography>=2.5->azure-identity<2.0,>=1.15->azure-quantum) (2.21)\n\n\u001b[1m[\u001b[0m\u001b[34;49mnotice\u001b[0m\u001b[1;39;49m]\u001b[0m\u001b[39;49m A new release of pip is available: \u001b[0m\u001b[31;49m23.3.2\u001b[0m\u001b[39;49m -> \u001b[0m\u001b[32;49m24.0\u001b[0m\n\u001b[1m[\u001b[0m\u001b[34;49mnotice\u001b[0m\u001b[1;39;49m]\u001b[0m\u001b[39;49m To update, run: \u001b[0m\u001b[32;49mpip install --upgrade pip\u001b[0m\nNote: you may need to restart the kernel to use updated packages.\n"
        }
      ],
      "execution_count": 3,
      "metadata": {}
    },
    {
      "cell_type": "markdown",
      "source": [
        "## Task 1. Implement the phase oracle (2 points)\n",
        "First we need to define an oracle. \n",
        "For this example we will consider the function $f(x)$ which is equal to 1 when $x$ is a bit string of length $N$ in which odd pairs of adjacent bits are the same and even pairs differ. For any $N$ there will be two possible solutions, one starting with 0 and one starting with 1. So for this example the number of solutions is 2.\n",
        "\n",
        "Our $f$ will look like this:\n",
        "$$\n",
        "f(x) =  \\begin{cases} \n",
        "      1 & x = 00110011\\text{... or }11001100\\text{...}\\\\\n",
        "      0 & \\text{otherwise}\n",
        "   \\end{cases}\n",
        "$$"
      ],
      "metadata": {}
    },
    {
      "cell_type": "code",
      "source": [
        "%%qsharp\n",
        "function Pattern(n : Int, flag: Bool) : Bool[] {\n",
        "   mutable pattern = [];\n",
        "   mutable flagElement = false;\n",
        "   if flag == true {\n",
        "      set flagElement = false;\n",
        "   } else {\n",
        "      set flagElement = true;\n",
        "   }\n",
        "   for i in 0..n-1 {\n",
        "      if i % 2 == 0 {\n",
        "         if flagElement == true {\n",
        "            set flagElement = false;\n",
        "         } else {\n",
        "            set flagElement = true;\n",
        "         }\n",
        "      }\n",
        "      set pattern = pattern + [flagElement];\n",
        "   }\n",
        "   return pattern;\n",
        "}\n",
        "operation AlternatingBitPairsOracle(qs : Qubit[]) : Unit {\n",
        "    // Task 1: implement the phase oracle for this algorithm\n",
        "    // ...\n",
        "      // let n = Length(qs);\n",
        "      // for i in 1 ..2.. n - 1 {\n",
        "      //    CNOT(qs[i], qs[i - 1]);\n",
        "      // }\n",
        "      // Controlled Z(qs[0 .. n - 3], qs[n - 2]);\n",
        "      // for i in n - 1 .. -2 .. 1 {\n",
        "      //    CNOT(qs[i], qs[i - 1]);\n",
        "      // }\n",
        "      // for i in 2 .. 2 .. n - 1 {\n",
        "      //    CNOT(qs[i], qs[i - 1]);   \n",
        "      // }\n",
        "      // Controlled Z(qs[0 .. 2 ..n - 3], qs[n - 2]);\n",
        "      // for i in n - 1 .. -2 .. 1 {\n",
        "      //    CNOT(qs[i], qs[i - 1]);\n",
        "      // }\n",
        "   let n = Length(qs);\n",
        "   let patternA = Pattern(n, true);\n",
        "   let patternB = Pattern(n, false);\n",
        "    use q = Qubit();\n",
        "    X(q);\n",
        "    ApplyControlledOnBitString(patternA, Z, qs, q);\n",
        "    ApplyControlledOnBitString(patternB, Z, qs, q);\n",
        "    X(q);\n",
        "}\n"
      ],
      "outputs": [],
      "execution_count": 9,
      "metadata": {
        "microsoft": {
          "language": "qsharp"
        },
        "vscode": {
          "languageId": "qsharp"
        }
      }
    },
    {
      "cell_type": "markdown",
      "source": [
        "You can use the following wrapper operation to print the effects your oracle has on the even superposition of basis states. \n",
        "\n",
        "**IMPORTANT**: depending on the version of `qsharp` package you're using, the output of `DumpMachine` will differ. Versions 1.0.34 and earlier reverse the order of qubits in the output, so if you run an oracle that correctly flips the phase of states $|110\\rangle$ and $|001\\rangle$ for a three-qubit state, DumpMachine will show them as $|011\\rangle$ and $|100\\rangle$. Versions 1.1 and later don't reverse the order of qubits, so the output will be as expected. You can check which version you're using from the notebook, by runinng `!pip list` in a separate cell and looking for `qsharp` package in the output."
      ],
      "metadata": {
        "nteract": {
          "transient": {
            "deleting": false
          }
        }
      }
    },
    {
      "cell_type": "code",
      "source": [
        "%%qsharp\n",
        "open Microsoft.Quantum.Diagnostics;\n",
        "\n",
        "// The operation that applies the oracle to an even superposition of all inputs and prints the resulting state\n",
        "operation DemoWrapper(N : Int) : Unit {\n",
        "    use qs = Qubit[N];\n",
        "    ApplyToEach(H, qs);\n",
        "    AlternatingBitPairsOracle(qs);\n",
        "    DumpMachine();\n",
        "    ResetAll(qs);\n",
        "}\n"
      ],
      "outputs": [],
      "execution_count": 5,
      "metadata": {
        "jupyter": {
          "outputs_hidden": false,
          "source_hidden": false
        },
        "microsoft": {
          "language": "qsharp"
        },
        "nteract": {
          "transient": {
            "deleting": false
          }
        },
        "vscode": {
          "languageId": "qsharp"
        }
      }
    },
    {
      "cell_type": "code",
      "source": [
        "qsharp.eval(\"DemoWrapper(4)\")"
      ],
      "outputs": [
        {
          "output_type": "stream",
          "name": "stdout",
          "text": "STATE:\n|0000⟩: 0.2500+0.0000𝑖\n|1010⟩: −0.2500+0.0000𝑖\n|0100⟩: −0.2500+0.0000𝑖\n|0001⟩: 0.2500+0.0000𝑖\n|0010⟩: 0.2500+0.0000𝑖\n|1111⟩: −0.2500+0.0000𝑖\n|1000⟩: 0.2500+0.0000𝑖\n|0111⟩: 0.2500+0.0000𝑖\n|1101⟩: 0.2500+0.0000𝑖\n|1110⟩: 0.2500+0.0000𝑖\n|1011⟩: 0.2500+0.0000𝑖\n|0101⟩: −0.2500+0.0000𝑖\n|0110⟩: −0.2500+0.0000𝑖\n|0011⟩: 0.2500+0.0000𝑖\n|1100⟩: 0.2500+0.0000𝑖\n|1001⟩: −0.2500+0.0000𝑖\n"
        }
      ],
      "execution_count": 6,
      "metadata": {
        "jupyter": {
          "outputs_hidden": false,
          "source_hidden": false
        },
        "nteract": {
          "transient": {
            "deleting": false
          }
        }
      }
    },
    {
      "cell_type": "markdown",
      "source": [
        "## Task 2. How far can you optimize your solution? (3 points)\n",
        "\n",
        "You can use the code below to estimate the resources required to run your solution. The scoring is done based on the case of $N = 5$.\n",
        "\n",
        "* If your solution gets a score above 1500, you'll get 0 points.\n",
        "* If your solution gets a score between 1000 and 1500, you'll get 1 point.\n",
        "* If your solution gets a score between 500 and 1000, you'll get 2 points.\n",
        "* If your solution gets a score under 500, you'll get 3 points."
      ],
      "metadata": {}
    },
    {
      "cell_type": "code",
      "source": [
        "%%qsharp\n",
        "open Microsoft.Quantum.Measurement;\n",
        "operation AlternatingBitPairsOracleWrapper(N : Int) : Result[] {\n",
        "    use qs = Qubit[N];\n",
        "    AlternatingBitPairsOracle(qs);\n",
        "    return MeasureEachZ(qs);\n",
        "}"
      ],
      "outputs": [],
      "execution_count": 7,
      "metadata": {
        "jupyter": {
          "outputs_hidden": false,
          "source_hidden": false
        },
        "microsoft": {
          "language": "qsharp"
        },
        "nteract": {
          "transient": {
            "deleting": false
          }
        },
        "vscode": {
          "languageId": "qsharp"
        }
      }
    },
    {
      "cell_type": "code",
      "source": [
        "# The function that extracts the relevant resource information from the resource estimation job results and produces your absolute score.\n",
        "def evaluate_results(res) : \n",
        "    width = res['physicalCounts']['breakdown']['algorithmicLogicalQubits']\n",
        "    depth = res['physicalCounts']['breakdown']['algorithmicLogicalDepth']\n",
        "    print(f\"Logical algorithmic qubits = {width}\")\n",
        "    print(f\"Algorithmic depth = {depth}\")\n",
        "    print(f\"Score = {width * depth}\")\n",
        "    return width * depth\n",
        "\n",
        "est = qsharp.estimate(\"AlternatingBitPairsOracleWrapper(5)\")\n",
        "evaluate_results(est)"
      ],
      "outputs": [
        {
          "output_type": "stream",
          "name": "stdout",
          "text": "Logical algorithmic qubits = 20\nAlgorithmic depth = 19\nScore = 380\n"
        },
        {
          "output_type": "execute_result",
          "execution_count": 8,
          "data": {
            "text/plain": "380"
          },
          "metadata": {}
        }
      ],
      "execution_count": 8,
      "metadata": {
        "jupyter": {
          "outputs_hidden": false,
          "source_hidden": false
        },
        "nteract": {
          "transient": {
            "deleting": false
          }
        }
      }
    },
    {
      "cell_type": "markdown",
      "source": [
        "### Task 3. Find the optimal number of iterations for $N = 3, 4, 5$ (2 points)\n",
        "\n",
        "The next cell implements Grover's search algorithm that takes two parameters: the number of bits in the strings we're looking for, and the number of iterations to run the algorithm for before measurement. \n",
        "\n",
        "Your task is to calculate the optimal number of iterations for $N = 3, 4, 5$ based on the size of the search space and the known number of problem solutions."
      ],
      "metadata": {
        "nteract": {
          "transient": {
            "deleting": false
          }
        }
      }
    },
    {
      "cell_type": "code",
      "source": [
        "%%qsharp\n",
        "open Microsoft.Quantum.Measurement;\n",
        "operation Grovers(N : Int, iterations : Int) : Result[] {\n",
        "    use qs = Qubit[N];\n",
        "    ApplyToEach(H, qs);\n",
        "\n",
        "    for i in 1 .. iterations {\n",
        "        AlternatingBitPairsOracle(qs);\n",
        "        \n",
        "        within {\n",
        "            ApplyToEachA(H, qs);\n",
        "            ApplyToEachA(X, qs);\n",
        "        } apply {\n",
        "            Controlled Z(qs[...N - 2], qs[N - 1]);\n",
        "        }\n",
        "    }\n",
        "    let res = MeasureEachZ(qs);\n",
        "    ResetAll(qs);\n",
        "    return res;\n",
        "}"
      ],
      "outputs": [],
      "execution_count": 34,
      "metadata": {
        "jupyter": {
          "outputs_hidden": false,
          "source_hidden": false
        },
        "microsoft": {
          "language": "qsharp"
        },
        "nteract": {
          "transient": {
            "deleting": false
          }
        },
        "vscode": {
          "languageId": "qsharp"
        }
      }
    },
    {
      "cell_type": "markdown",
      "source": [
        "You can run a single simulation to see whether the measurement produced a state that is a solution to our problem. "
      ],
      "metadata": {}
    },
    {
      "cell_type": "markdown",
      "source": [
        "### Optimal iterations for 3,4,5"
      ],
      "metadata": {
        "nteract": {
          "transient": {
            "deleting": false
          }
        }
      }
    },
    {
      "cell_type": "code",
      "source": [
        "qsharp.eval(\"Grovers(3, 1)\")"
      ],
      "outputs": [
        {
          "output_type": "execute_result",
          "execution_count": 24,
          "data": {
            "text/plain": "[One, One, Zero]"
          },
          "metadata": {}
        }
      ],
      "execution_count": 24,
      "metadata": {}
    },
    {
      "cell_type": "code",
      "source": [
        "N = 3\n",
        "iterations = 1\n",
        "\n",
        "target1 = [qsharp.Result.One if (i // 2) % 2 == 1 else qsharp.Result.Zero for i in range(N)]\n",
        "target2 = [qsharp.Result.One if (i // 2) % 2 == 1 else qsharp.Result.Zero for i in range(2, N+2)]\n",
        "shots = 100\n",
        "correctCount = 0\n",
        "results = qsharp.run(f\"Grovers({N}, {iterations})\", shots=shots)\n",
        "\n",
        "for res in results:\n",
        "    if res == target1 or res == target2:\n",
        "        correctCount += 1\n",
        "\n",
        "print(f\"N={N}, iter={iterations} - {100 * correctCount/shots}% of queries returned a correct answer\")\n"
      ],
      "outputs": [
        {
          "output_type": "stream",
          "name": "stdout",
          "text": "N=3, iter=1 - 100.0% of queries returned a correct answer\n"
        }
      ],
      "execution_count": 27,
      "metadata": {
        "jupyter": {
          "source_hidden": false,
          "outputs_hidden": false
        },
        "nteract": {
          "transient": {
            "deleting": false
          }
        }
      }
    },
    {
      "cell_type": "code",
      "source": [
        "qsharp.eval(\"Grovers(4, 6)\")"
      ],
      "outputs": [],
      "execution_count": null,
      "metadata": {
        "jupyter": {
          "source_hidden": false,
          "outputs_hidden": false
        },
        "nteract": {
          "transient": {
            "deleting": false
          }
        }
      }
    },
    {
      "cell_type": "code",
      "source": [
        "N = 4\n",
        "iterations = 6\n",
        "\n",
        "target1 = [qsharp.Result.One if (i // 2) % 2 == 1 else qsharp.Result.Zero for i in range(N)]\n",
        "target2 = [qsharp.Result.One if (i // 2) % 2 == 1 else qsharp.Result.Zero for i in range(2, N+2)]\n",
        "shots = 100\n",
        "correctCount = 0\n",
        "results = qsharp.run(f\"Grovers({N}, {iterations})\", shots=shots)\n",
        "\n",
        "for res in results:\n",
        "    if res == target1 or res == target2:\n",
        "        correctCount += 1\n",
        "\n",
        "print(f\"N={N}, iter={iterations} - {100 * correctCount/shots}% of queries returned a correct answer\")\n"
      ],
      "outputs": [
        {
          "output_type": "stream",
          "name": "stdout",
          "text": "N=4, iter=6 - 100.0% of queries returned a correct answer\n"
        }
      ],
      "execution_count": 28,
      "metadata": {
        "jupyter": {
          "source_hidden": false,
          "outputs_hidden": false
        },
        "nteract": {
          "transient": {
            "deleting": false
          }
        }
      }
    },
    {
      "cell_type": "code",
      "source": [
        "qsharp.eval(\"Grovers(5, 15)\")"
      ],
      "outputs": [],
      "execution_count": null,
      "metadata": {
        "jupyter": {
          "source_hidden": false,
          "outputs_hidden": false
        },
        "nteract": {
          "transient": {
            "deleting": false
          }
        }
      }
    },
    {
      "cell_type": "markdown",
      "source": [
        "You can also run a series of simulations on a local simulator to see the percentage of shots for which a query returns a correct answer."
      ],
      "metadata": {}
    },
    {
      "cell_type": "code",
      "source": [
        "N = 5\n",
        "iterations = 15\n",
        "\n",
        "target1 = [qsharp.Result.One if (i // 2) % 2 == 1 else qsharp.Result.Zero for i in range(N)]\n",
        "target2 = [qsharp.Result.One if (i // 2) % 2 == 1 else qsharp.Result.Zero for i in range(2, N+2)]\n",
        "shots = 100\n",
        "correctCount = 0\n",
        "results = qsharp.run(f\"Grovers({N}, {iterations})\", shots=shots)\n",
        "\n",
        "for res in results:\n",
        "    if res == target1 or res == target2:\n",
        "        correctCount += 1\n",
        "\n",
        "print(f\"N={N}, iter={iterations} - {100 * correctCount/shots}% of queries returned a correct answer\")\n"
      ],
      "outputs": [
        {
          "output_type": "stream",
          "name": "stdout",
          "text": "N=5, iter=15 - 100.0% of queries returned a correct answer\n"
        }
      ],
      "execution_count": 29,
      "metadata": {}
    },
    {
      "cell_type": "markdown",
      "source": [
        "## Tasks 4-5. Run Grover's search for $N = 3, 4, 5$ on noiseless Rigetti simulator (1 point) and noisy Quantinuum emulator (2 points)\n",
        "\n",
        "* Run the Grover's search algorithm for the oracle you've implemented on Rigetti or IonQ noiseless simulator (`rigetti.sim.qvm` or `ionq.simulator`) for $N = 3, 4, 5$.\n",
        "* Run the Grover's search algorithm for the oracle you've implemented on Quantinuum noisy emulator (`quantinuum.sim.h1-1e`) for $N = 3, 4, 5$.\n",
        "* Plot the results in a 2x3 or 3x2 table to compare the results on the same problem instance side-by-side."
      ],
      "metadata": {}
    },
    {
      "cell_type": "code",
      "source": [
        "from azure.quantum import Workspace\n",
        "\n",
        "workspace = Workspace(\n",
        "      resource_id = \"/subscriptions/1cee64b2-eb12-480d-bb12-cafad404583c/resourceGroups/AzureQuantum/providers/Microsoft.Quantum/Workspaces/CSYE\",\n",
        "      location = \"eastus\")\n",
        "qsharp.init(target_profile=qsharp.TargetProfile.Base)"
      ],
      "outputs": [
        {
          "output_type": "execute_result",
          "execution_count": 30,
          "data": {
            "application/x.qsharp-config": {
              "targetProfile": "base"
            },
            "text/plain": "Q# initialized with configuration: {'targetProfile': 'base'}"
          },
          "metadata": {}
        }
      ],
      "execution_count": 30,
      "metadata": {}
    },
    {
      "cell_type": "markdown",
      "source": [
        "**IMPORTANT:** After you call `qsharp.init`, you'll need to recompile the cells that define the oracle and Grover's search before proceeding."
      ],
      "metadata": {
        "nteract": {
          "transient": {
            "deleting": false
          }
        }
      }
    },
    {
      "cell_type": "code",
      "source": [
        "# Select the target here\n",
        "target = workspace.get_targets(\"rigetti.sim.qvm\")"
      ],
      "outputs": [],
      "execution_count": 31,
      "metadata": {}
    },
    {
      "cell_type": "code",
      "source": [
        "N = 3\n",
        "iterations = 1\n",
        "\n",
        "program = qsharp.compile(f\"Grovers({N}, {iterations})\")\n",
        "job = target.submit(program, f\"Alternating bit pairs (Grover): N={N}, iter={iterations}\", shots=1000)"
      ],
      "outputs": [],
      "execution_count": 35,
      "metadata": {}
    },
    {
      "cell_type": "code",
      "source": [
        "# Once the job is complete, you can fetch its results and print them manually\n",
        "res = job.get_results()\n",
        "res"
      ],
      "outputs": [
        {
          "output_type": "stream",
          "name": "stdout",
          "text": ".........."
        },
        {
          "output_type": "execute_result",
          "execution_count": 36,
          "data": {
            "text/plain": "{'[0, 0, 1]': 0.488, '[1, 1, 0]': 0.512}"
          },
          "metadata": {}
        }
      ],
      "execution_count": 36,
      "metadata": {
        "jupyter": {
          "source_hidden": false,
          "outputs_hidden": false
        },
        "nteract": {
          "transient": {
            "deleting": false
          }
        }
      }
    },
    {
      "cell_type": "code",
      "source": [
        "def plot_job_results(jobId, iter, sim):\n",
        "    # Fetch job results for the given jobId and plot them.\n",
        "    # \"iter\" and \"sim\" parameters are used to make the plot header more descriptive\n",
        "    job = workspace.get_job(jobId)\n",
        "    res = job.get_results()\n",
        "    print(res)\n",
        "\n",
        "    # Get keys and values, and convert keys from lists of bits to bitstrings\n",
        "    keys, outputFreq = zip(*sorted(res.items()))\n",
        "    keys = [key[1:-1].replace(\", \", \"\") for key in keys]\n",
        "    keyLen = len(keys[0])\n",
        "\n",
        "    # Generate correct bitstrings\n",
        "    firstBitString = \"\"\n",
        "    secondBitString = \"\"\n",
        "    for i in range(keyLen):\n",
        "        firstBitString += str((i // 2) % 2)\n",
        "        secondBitString += str(1 - (i // 2) % 2)\n",
        "\n",
        "    # Find the indices of correct answers in the array of keys\n",
        "    firstBitStringLoc = min(keys.index(firstBitString), keys.index(secondBitString))\n",
        "    secondBitStringLoc = max(keys.index(firstBitString), keys.index(secondBitString))\n",
        "\n",
        "    # Plot the frequencies of all keys, with red color marking correct answers and blue - incorrect ones\n",
        "    plt.bar(keys[0:firstBitStringLoc], outputFreq[0:firstBitStringLoc], color = \"blue\")\n",
        "    plt.bar(keys[firstBitStringLoc], outputFreq[firstBitStringLoc], color = \"red\")\n",
        "    plt.bar(keys[firstBitStringLoc+1:secondBitStringLoc], outputFreq[firstBitStringLoc+1:secondBitStringLoc], color = \"blue\")\n",
        "    plt.bar(keys[secondBitStringLoc], outputFreq[secondBitStringLoc], color = \"red\")\n",
        "    plt.bar(keys[secondBitStringLoc+1:], outputFreq[secondBitStringLoc+1:], color = \"blue\")\n",
        "    plt.xticks(rotation=90)\n",
        "    plt.title(\"{} results for N = {} iter = {}\".format(sim, keyLen, iter))\n",
        "    plt.show()"
      ],
      "outputs": [],
      "execution_count": 38,
      "metadata": {
        "jupyter": {
          "source_hidden": false,
          "outputs_hidden": false
        },
        "nteract": {
          "transient": {
            "deleting": false
          }
        }
      }
    },
    {
      "cell_type": "code",
      "source": [
        "N = 4\n",
        "iterations = 2\n",
        "\n",
        "program = qsharp.compile(f\"Grovers({N}, {iterations})\")\n",
        "job = target.submit(program, f\"Alternating bit pairs (Grover): N={N}, iter={iterations}\", shots=1000)"
      ],
      "outputs": [],
      "execution_count": 39,
      "metadata": {
        "jupyter": {
          "source_hidden": false,
          "outputs_hidden": false
        },
        "nteract": {
          "transient": {
            "deleting": false
          }
        }
      }
    },
    {
      "cell_type": "code",
      "source": [
        "plot_job_results(job.id, iterations, \"rigetti 3 1\")"
      ],
      "outputs": [
        {
          "output_type": "stream",
          "name": "stdout",
          "text": ".........{'[0, 0, 1, 1]': 0.493, '[1, 1, 0, 0]': 0.456, '[0, 1, 0, 1]': 0.006, '[0, 0, 0, 0]': 0.005, '[1, 1, 1, 0]': 0.005, '[0, 1, 1, 1]': 0.005, '[0, 0, 0, 1]': 0.002, '[0, 1, 1, 0]': 0.001, '[1, 1, 1, 1]': 0.003, '[0, 1, 0, 0]': 0.004, '[1, 1, 0, 1]': 0.003, '[1, 0, 1, 1]': 0.004, '[1, 0, 0, 1]': 0.002, '[1, 0, 1, 0]': 0.004, '[0, 0, 1, 0]': 0.004, '[1, 0, 0, 0]': 0.003}\n"
        },
        {
          "output_type": "display_data",
          "data": {
            "text/plain": "<Figure size 640x480 with 1 Axes>",
            "image/png": "[encoded data removed]"
          },
          "metadata": {}
        }
      ],
      "execution_count": 40,
      "metadata": {
        "jupyter": {
          "source_hidden": false,
          "outputs_hidden": false
        },
        "nteract": {
          "transient": {
            "deleting": false
          }
        }
      }
    },
    {
      "cell_type": "code",
      "source": [
        "# Once the job is complete, you can fetch its results and print them manually\n",
        "res = job.get_results()\n",
        "res"
      ],
      "outputs": [
        {
          "output_type": "execute_result",
          "execution_count": 41,
          "data": {
            "text/plain": "{'[0, 0, 1, 1]': 0.493,\n '[1, 1, 0, 0]': 0.456,\n '[0, 1, 0, 1]': 0.006,\n '[0, 0, 0, 0]': 0.005,\n '[1, 1, 1, 0]': 0.005,\n '[0, 1, 1, 1]': 0.005,\n '[0, 0, 0, 1]': 0.002,\n '[0, 1, 1, 0]': 0.001,\n '[1, 1, 1, 1]': 0.003,\n '[0, 1, 0, 0]': 0.004,\n '[1, 1, 0, 1]': 0.003,\n '[1, 0, 1, 1]': 0.004,\n '[1, 0, 0, 1]': 0.002,\n '[1, 0, 1, 0]': 0.004,\n '[0, 0, 1, 0]': 0.004,\n '[1, 0, 0, 0]': 0.003}"
          },
          "metadata": {}
        }
      ],
      "execution_count": 41,
      "metadata": {
        "jupyter": {
          "source_hidden": false,
          "outputs_hidden": false
        },
        "nteract": {
          "transient": {
            "deleting": false
          }
        }
      }
    },
    {
      "cell_type": "code",
      "source": [
        "def plot_job_results(jobId, iter, sim):\n",
        "    # Fetch job results for the given jobId and plot them.\n",
        "    # \"iter\" and \"sim\" parameters are used to make the plot header more descriptive\n",
        "    job = workspace.get_job(jobId)\n",
        "    res = job.get_results()\n",
        "    print(res)\n",
        "\n",
        "    # Get keys and values, and convert keys from lists of bits to bitstrings\n",
        "    keys, outputFreq = zip(*sorted(res.items()))\n",
        "    keys = [key[1:-1].replace(\", \", \"\") for key in keys]\n",
        "    keyLen = len(keys[0])\n",
        "\n",
        "    # Generate correct bitstrings\n",
        "    firstBitString = \"\"\n",
        "    secondBitString = \"\"\n",
        "    for i in range(keyLen):\n",
        "        firstBitString += str((i // 2) % 2)\n",
        "        secondBitString += str(1 - (i // 2) % 2)\n",
        "\n",
        "    # Find the indices of correct answers in the array of keys\n",
        "    firstBitStringLoc = min(keys.index(firstBitString), keys.index(secondBitString))\n",
        "    secondBitStringLoc = max(keys.index(firstBitString), keys.index(secondBitString))\n",
        "\n",
        "    # Plot the frequencies of all keys, with red color marking correct answers and blue - incorrect ones\n",
        "    plt.bar(keys[0:firstBitStringLoc], outputFreq[0:firstBitStringLoc], color = \"blue\")\n",
        "    plt.bar(keys[firstBitStringLoc], outputFreq[firstBitStringLoc], color = \"red\")\n",
        "    plt.bar(keys[firstBitStringLoc+1:secondBitStringLoc], outputFreq[firstBitStringLoc+1:secondBitStringLoc], color = \"blue\")\n",
        "    plt.bar(keys[secondBitStringLoc], outputFreq[secondBitStringLoc], color = \"red\")\n",
        "    plt.bar(keys[secondBitStringLoc+1:], outputFreq[secondBitStringLoc+1:], color = \"blue\")\n",
        "    plt.xticks(rotation=90)\n",
        "    plt.title(\"{} results for N = {} iter = {}\".format(sim, keyLen, iter))\n",
        "    plt.show()"
      ],
      "outputs": [],
      "execution_count": 42,
      "metadata": {
        "jupyter": {
          "source_hidden": false,
          "outputs_hidden": false
        },
        "nteract": {
          "transient": {
            "deleting": false
          }
        }
      }
    },
    {
      "cell_type": "code",
      "source": [
        "plot_job_results(job.id, iterations, \"rigetti 4 2\")"
      ],
      "outputs": [
        {
          "output_type": "stream",
          "name": "stdout",
          "text": "{'[0, 0, 1, 1]': 0.493, '[1, 1, 0, 0]': 0.456, '[0, 1, 0, 1]': 0.006, '[0, 0, 0, 0]': 0.005, '[1, 1, 1, 0]': 0.005, '[0, 1, 1, 1]': 0.005, '[0, 0, 0, 1]': 0.002, '[0, 1, 1, 0]': 0.001, '[1, 1, 1, 1]': 0.003, '[0, 1, 0, 0]': 0.004, '[1, 1, 0, 1]': 0.003, '[1, 0, 1, 1]': 0.004, '[1, 0, 0, 1]': 0.002, '[1, 0, 1, 0]': 0.004, '[0, 0, 1, 0]': 0.004, '[1, 0, 0, 0]': 0.003}\n"
        },
        {
          "output_type": "display_data",
          "data": {
            "text/plain": "<Figure size 640x480 with 1 Axes>",
            "image/png": "[encoded data removed]"
          },
          "metadata": {}
        }
      ],
      "execution_count": 43,
      "metadata": {
        "jupyter": {
          "source_hidden": false,
          "outputs_hidden": false
        },
        "nteract": {
          "transient": {
            "deleting": false
          }
        }
      }
    },
    {
      "cell_type": "code",
      "source": [
        "N = 5\n",
        "iterations = 1\n",
        "\n",
        "program = qsharp.compile(f\"Grovers({N}, {iterations})\")\n",
        "job = target.submit(program, f\"Alternating bit pairs (Grover): N={N}, iter={iterations}\", shots=1000)"
      ],
      "outputs": [],
      "execution_count": 44,
      "metadata": {
        "jupyter": {
          "source_hidden": false,
          "outputs_hidden": false
        },
        "nteract": {
          "transient": {
            "deleting": false
          }
        }
      }
    },
    {
      "cell_type": "code",
      "source": [
        "# Once the job is complete, you can fetch its results and print them manually\n",
        "res = job.get_results()\n",
        "res"
      ],
      "outputs": [
        {
          "output_type": "stream",
          "name": "stdout",
          "text": "..........."
        },
        {
          "output_type": "execute_result",
          "execution_count": 45,
          "data": {
            "text/plain": "{'[0, 1, 1, 1, 1]': 0.02,\n '[1, 1, 0, 0, 1]': 0.25,\n '[1, 1, 0, 1, 0]': 0.01,\n '[0, 0, 1, 1, 1]': 0.021,\n '[1, 0, 1, 0, 1]': 0.014,\n '[0, 0, 0, 1, 0]': 0.017,\n '[0, 0, 1, 1, 0]': 0.237,\n '[0, 1, 0, 1, 1]': 0.014,\n '[0, 1, 1, 0, 0]': 0.016,\n '[0, 1, 1, 1, 0]': 0.021,\n '[1, 0, 0, 0, 1]': 0.026,\n '[1, 0, 1, 0, 0]': 0.026,\n '[1, 0, 0, 0, 0]': 0.011,\n '[1, 0, 1, 1, 1]': 0.015,\n '[1, 1, 1, 0, 1]': 0.022,\n '[1, 1, 1, 1, 1]': 0.015,\n '[0, 1, 1, 0, 1]': 0.015,\n '[0, 0, 1, 0, 0]': 0.018,\n '[1, 1, 1, 1, 0]': 0.016,\n '[1, 1, 1, 0, 0]': 0.018,\n '[0, 0, 0, 0, 0]': 0.024,\n '[0, 0, 0, 1, 1]': 0.012,\n '[0, 0, 0, 0, 1]': 0.018,\n '[1, 1, 0, 1, 1]': 0.015,\n '[1, 0, 1, 1, 0]': 0.023,\n '[1, 1, 0, 0, 0]': 0.013,\n '[0, 1, 0, 1, 0]': 0.018,\n '[1, 0, 0, 1, 0]': 0.011,\n '[0, 1, 0, 0, 0]': 0.019,\n '[0, 0, 1, 0, 1]': 0.014,\n '[0, 1, 0, 0, 1]': 0.017,\n '[1, 0, 0, 1, 1]': 0.014}"
          },
          "metadata": {}
        }
      ],
      "execution_count": 45,
      "metadata": {}
    },
    {
      "cell_type": "markdown",
      "source": [
        "The cells below allow you to fetch job results based on its ID and plot them, highlighting the results that correspond to the correct answers."
      ],
      "metadata": {
        "nteract": {
          "transient": {
            "deleting": false
          }
        }
      }
    },
    {
      "cell_type": "code",
      "source": [
        "def plot_job_results(jobId, iter, sim):\n",
        "    # Fetch job results for the given jobId and plot them.\n",
        "    # \"iter\" and \"sim\" parameters are used to make the plot header more descriptive\n",
        "    job = workspace.get_job(jobId)\n",
        "    res = job.get_results()\n",
        "    print(res)\n",
        "\n",
        "    # Get keys and values, and convert keys from lists of bits to bitstrings\n",
        "    keys, outputFreq = zip(*sorted(res.items()))\n",
        "    keys = [key[1:-1].replace(\", \", \"\") for key in keys]\n",
        "    keyLen = len(keys[0])\n",
        "\n",
        "    # Generate correct bitstrings\n",
        "    firstBitString = \"\"\n",
        "    secondBitString = \"\"\n",
        "    for i in range(keyLen):\n",
        "        firstBitString += str((i // 2) % 2)\n",
        "        secondBitString += str(1 - (i // 2) % 2)\n",
        "\n",
        "    # Find the indices of correct answers in the array of keys\n",
        "    firstBitStringLoc = min(keys.index(firstBitString), keys.index(secondBitString))\n",
        "    secondBitStringLoc = max(keys.index(firstBitString), keys.index(secondBitString))\n",
        "\n",
        "    # Plot the frequencies of all keys, with red color marking correct answers and blue - incorrect ones\n",
        "    plt.bar(keys[0:firstBitStringLoc], outputFreq[0:firstBitStringLoc], color = \"blue\")\n",
        "    plt.bar(keys[firstBitStringLoc], outputFreq[firstBitStringLoc], color = \"red\")\n",
        "    plt.bar(keys[firstBitStringLoc+1:secondBitStringLoc], outputFreq[firstBitStringLoc+1:secondBitStringLoc], color = \"blue\")\n",
        "    plt.bar(keys[secondBitStringLoc], outputFreq[secondBitStringLoc], color = \"red\")\n",
        "    plt.bar(keys[secondBitStringLoc+1:], outputFreq[secondBitStringLoc+1:], color = \"blue\")\n",
        "    plt.xticks(rotation=90)\n",
        "    plt.title(\"{} results for N = {} iter = {}\".format(sim, keyLen, iter))\n",
        "    plt.show()"
      ],
      "outputs": [],
      "execution_count": 46,
      "metadata": {}
    },
    {
      "cell_type": "code",
      "source": [
        "plot_job_results(job.id, iterations, \"rigetti 5 15\")"
      ],
      "outputs": [
        {
          "output_type": "stream",
          "name": "stdout",
          "text": "{'[0, 1, 1, 1, 1]': 0.02, '[1, 1, 0, 0, 1]': 0.25, '[1, 1, 0, 1, 0]': 0.01, '[0, 0, 1, 1, 1]': 0.021, '[1, 0, 1, 0, 1]': 0.014, '[0, 0, 0, 1, 0]': 0.017, '[0, 0, 1, 1, 0]': 0.237, '[0, 1, 0, 1, 1]': 0.014, '[0, 1, 1, 0, 0]': 0.016, '[0, 1, 1, 1, 0]': 0.021, '[1, 0, 0, 0, 1]': 0.026, '[1, 0, 1, 0, 0]': 0.026, '[1, 0, 0, 0, 0]': 0.011, '[1, 0, 1, 1, 1]': 0.015, '[1, 1, 1, 0, 1]': 0.022, '[1, 1, 1, 1, 1]': 0.015, '[0, 1, 1, 0, 1]': 0.015, '[0, 0, 1, 0, 0]': 0.018, '[1, 1, 1, 1, 0]': 0.016, '[1, 1, 1, 0, 0]': 0.018, '[0, 0, 0, 0, 0]': 0.024, '[0, 0, 0, 1, 1]': 0.012, '[0, 0, 0, 0, 1]': 0.018, '[1, 1, 0, 1, 1]': 0.015, '[1, 0, 1, 1, 0]': 0.023, '[1, 1, 0, 0, 0]': 0.013, '[0, 1, 0, 1, 0]': 0.018, '[1, 0, 0, 1, 0]': 0.011, '[0, 1, 0, 0, 0]': 0.019, '[0, 0, 1, 0, 1]': 0.014, '[0, 1, 0, 0, 1]': 0.017, '[1, 0, 0, 1, 1]': 0.014}\n"
        },
        {
          "output_type": "display_data",
          "data": {
            "text/plain": "<Figure size 640x480 with 1 Axes>",
            "image/png": "[encoded data removed]"
          },
          "metadata": {}
        }
      ],
      "execution_count": 47,
      "metadata": {}
    },
    {
      "cell_type": "code",
      "source": [
        "target = workspace.get_targets(\"quantinuum.sim.h1-1e\")"
      ],
      "outputs": [],
      "execution_count": 48,
      "metadata": {
        "jupyter": {
          "source_hidden": false,
          "outputs_hidden": false
        },
        "nteract": {
          "transient": {
            "deleting": false
          }
        }
      }
    },
    {
      "cell_type": "code",
      "source": [
        "N = 4\n",
        "iterations = 2\n",
        "\n",
        "program = qsharp.compile(f\"Grovers({N}, {iterations})\")\n",
        "job = target.submit(program, f\"Alternating bit pairs (Grover): N={N}, iter={iterations}\", shots=100)"
      ],
      "outputs": [],
      "execution_count": 49,
      "metadata": {
        "jupyter": {
          "source_hidden": false,
          "outputs_hidden": false
        },
        "nteract": {
          "transient": {
            "deleting": false
          }
        }
      }
    },
    {
      "cell_type": "code",
      "source": [
        "# Once the job is complete, you can fetch its results and print them manually\n",
        "res = job.get_results()\n",
        "res"
      ],
      "outputs": [
        {
          "output_type": "stream",
          "name": "stdout",
          "text": "............."
        },
        {
          "output_type": "execute_result",
          "execution_count": 50,
          "data": {
            "text/plain": "{'[1, 1, 0, 0]': 0.32,\n '[0, 0, 1, 1]': 0.38,\n '[0, 0, 1, 0]': 0.04,\n '[0, 1, 0, 1]': 0.01,\n '[1, 0, 1, 1]': 0.02,\n '[1, 1, 0, 1]': 0.04,\n '[1, 0, 1, 0]': 0.03,\n '[0, 0, 0, 1]': 0.03,\n '[1, 0, 0, 1]': 0.02,\n '[0, 1, 1, 0]': 0.02,\n '[0, 1, 0, 0]': 0.02,\n '[1, 0, 0, 0]': 0.02,\n '[0, 1, 1, 1]': 0.03,\n '[1, 1, 1, 1]': 0.02}"
          },
          "metadata": {}
        }
      ],
      "execution_count": 50,
      "metadata": {
        "jupyter": {
          "source_hidden": false,
          "outputs_hidden": false
        },
        "nteract": {
          "transient": {
            "deleting": false
          }
        }
      }
    },
    {
      "cell_type": "code",
      "source": [
        "def plot_job_results(jobId, iter, sim):\n",
        "    # Fetch job results for the given jobId and plot them.\n",
        "    # \"iter\" and \"sim\" parameters are used to make the plot header more descriptive\n",
        "    job = workspace.get_job(jobId)\n",
        "    res = job.get_results()\n",
        "    print(res)\n",
        "\n",
        "    # Get keys and values, and convert keys from lists of bits to bitstrings\n",
        "    keys, outputFreq = zip(*sorted(res.items()))\n",
        "    keys = [key[1:-1].replace(\", \", \"\") for key in keys]\n",
        "    keyLen = len(keys[0])\n",
        "\n",
        "    # Generate correct bitstrings\n",
        "    firstBitString = \"\"\n",
        "    secondBitString = \"\"\n",
        "    for i in range(keyLen):\n",
        "        firstBitString += str((i // 2) % 2)\n",
        "        secondBitString += str(1 - (i // 2) % 2)\n",
        "\n",
        "    # Find the indices of correct answers in the array of keys\n",
        "    firstBitStringLoc = min(keys.index(firstBitString), keys.index(secondBitString))\n",
        "    secondBitStringLoc = max(keys.index(firstBitString), keys.index(secondBitString))\n",
        "\n",
        "    # Plot the frequencies of all keys, with red color marking correct answers and blue - incorrect ones\n",
        "    plt.bar(keys[0:firstBitStringLoc], outputFreq[0:firstBitStringLoc], color = \"blue\")\n",
        "    plt.bar(keys[firstBitStringLoc], outputFreq[firstBitStringLoc], color = \"red\")\n",
        "    plt.bar(keys[firstBitStringLoc+1:secondBitStringLoc], outputFreq[firstBitStringLoc+1:secondBitStringLoc], color = \"blue\")\n",
        "    plt.bar(keys[secondBitStringLoc], outputFreq[secondBitStringLoc], color = \"red\")\n",
        "    plt.bar(keys[secondBitStringLoc+1:], outputFreq[secondBitStringLoc+1:], color = \"blue\")\n",
        "    plt.xticks(rotation=90)\n",
        "    plt.title(\"{} results for N = {} iter = {}\".format(sim, keyLen, iter))\n",
        "    plt.show()"
      ],
      "outputs": [],
      "execution_count": 54,
      "metadata": {
        "jupyter": {
          "source_hidden": false,
          "outputs_hidden": false
        },
        "nteract": {
          "transient": {
            "deleting": false
          }
        }
      }
    },
    {
      "cell_type": "code",
      "source": [
        "plot_job_results(job.id, iterations, \"quantinuum !\")"
      ],
      "outputs": [
        {
          "output_type": "stream",
          "name": "stdout",
          "text": "{'[1, 1, 0, 0]': 0.32, '[0, 0, 1, 1]': 0.38, '[0, 0, 1, 0]': 0.04, '[0, 1, 0, 1]': 0.01, '[1, 0, 1, 1]': 0.02, '[1, 1, 0, 1]': 0.04, '[1, 0, 1, 0]': 0.03, '[0, 0, 0, 1]': 0.03, '[1, 0, 0, 1]': 0.02, '[0, 1, 1, 0]': 0.02, '[0, 1, 0, 0]': 0.02, '[1, 0, 0, 0]': 0.02, '[0, 1, 1, 1]': 0.03, '[1, 1, 1, 1]': 0.02}\n"
        },
        {
          "output_type": "display_data",
          "data": {
            "text/plain": "<Figure size 640x480 with 1 Axes>",
            "image/png": "[encoded data removed]"
          },
          "metadata": {}
        }
      ],
      "execution_count": 55,
      "metadata": {
        "jupyter": {
          "source_hidden": false,
          "outputs_hidden": false
        },
        "nteract": {
          "transient": {
            "deleting": false
          }
        }
      }
    },
    {
      "cell_type": "code",
      "source": [
        "N = 3\n",
        "iterations = 1\n",
        "\n",
        "program = qsharp.compile(f\"Grovers({N}, {iterations})\")\n",
        "job = target.submit(program, f\"Alternating bit pairs (Grover): N={N}, iter={iterations}\", shots=100)"
      ],
      "outputs": [],
      "execution_count": 56,
      "metadata": {
        "jupyter": {
          "source_hidden": false,
          "outputs_hidden": false
        },
        "nteract": {
          "transient": {
            "deleting": false
          }
        }
      }
    },
    {
      "cell_type": "code",
      "source": [
        "# Once the job is complete, you can fetch its results and print them manually\n",
        "res = job.get_results()\n",
        "res"
      ],
      "outputs": [
        {
          "output_type": "execute_result",
          "execution_count": 59,
          "data": {
            "text/plain": "{'[0, 0, 1]': 0.51,\n '[1, 1, 0]': 0.43,\n '[1, 0, 1]': 0.03,\n '[0, 0, 0]': 0.01,\n '[1, 1, 1]': 0.01,\n '[1, 0, 0]': 0.01}"
          },
          "metadata": {}
        }
      ],
      "execution_count": 59,
      "metadata": {
        "jupyter": {
          "source_hidden": false,
          "outputs_hidden": false
        },
        "nteract": {
          "transient": {
            "deleting": false
          }
        }
      }
    },
    {
      "cell_type": "code",
      "source": [
        "def plot_job_results(jobId, iter, sim):\n",
        "    # Fetch job results for the given jobId and plot them.\n",
        "    # \"iter\" and \"sim\" parameters are used to make the plot header more descriptive\n",
        "    job = workspace.get_job(jobId)\n",
        "    res = job.get_results()\n",
        "    print(res)\n",
        "\n",
        "    # Get keys and values, and convert keys from lists of bits to bitstrings\n",
        "    keys, outputFreq = zip(*sorted(res.items()))\n",
        "    keys = [key[1:-1].replace(\", \", \"\") for key in keys]\n",
        "    keyLen = len(keys[0])\n",
        "\n",
        "    # Generate correct bitstrings\n",
        "    firstBitString = \"\"\n",
        "    secondBitString = \"\"\n",
        "    for i in range(keyLen):\n",
        "        firstBitString += str((i // 2) % 2)\n",
        "        secondBitString += str(1 - (i // 2) % 2)\n",
        "\n",
        "    # Find the indices of correct answers in the array of keys\n",
        "    firstBitStringLoc = min(keys.index(firstBitString), keys.index(secondBitString))\n",
        "    secondBitStringLoc = max(keys.index(firstBitString), keys.index(secondBitString))\n",
        "\n",
        "    # Plot the frequencies of all keys, with red color marking correct answers and blue - incorrect ones\n",
        "    plt.bar(keys[0:firstBitStringLoc], outputFreq[0:firstBitStringLoc], color = \"blue\")\n",
        "    plt.bar(keys[firstBitStringLoc], outputFreq[firstBitStringLoc], color = \"red\")\n",
        "    plt.bar(keys[firstBitStringLoc+1:secondBitStringLoc], outputFreq[firstBitStringLoc+1:secondBitStringLoc], color = \"blue\")\n",
        "    plt.bar(keys[secondBitStringLoc], outputFreq[secondBitStringLoc], color = \"red\")\n",
        "    plt.bar(keys[secondBitStringLoc+1:], outputFreq[secondBitStringLoc+1:], color = \"blue\")\n",
        "    plt.xticks(rotation=90)\n",
        "    plt.title(\"{} results for N = {} iter = {}\".format(sim, keyLen, iter))\n",
        "    plt.show()"
      ],
      "outputs": [],
      "execution_count": 57,
      "metadata": {
        "jupyter": {
          "source_hidden": false,
          "outputs_hidden": false
        },
        "nteract": {
          "transient": {
            "deleting": false
          }
        }
      }
    },
    {
      "cell_type": "code",
      "source": [
        "plot_job_results(job.id, iterations, \"quantinuum !\")"
      ],
      "outputs": [
        {
          "output_type": "stream",
          "name": "stdout",
          "text": "...........{'[0, 0, 1]': 0.51, '[1, 1, 0]': 0.43, '[1, 0, 1]': 0.03, '[0, 0, 0]': 0.01, '[1, 1, 1]': 0.01, '[1, 0, 0]': 0.01}\n"
        },
        {
          "output_type": "display_data",
          "data": {
            "text/plain": "<Figure size 640x480 with 1 Axes>",
            "image/png": "[encoded data removed]"
          },
          "metadata": {}
        }
      ],
      "execution_count": 58,
      "metadata": {
        "jupyter": {
          "source_hidden": false,
          "outputs_hidden": false
        },
        "nteract": {
          "transient": {
            "deleting": false
          }
        }
      }
    },
    {
      "cell_type": "code",
      "source": [
        "N = 5\n",
        "iterations = 3\n",
        "\n",
        "program = qsharp.compile(f\"Grovers({N}, {iterations})\")\n",
        "job = target.submit(program, f\"Alternating bit pairs (Grover): N={N}, iter={iterations}\", shots=100)"
      ],
      "outputs": [],
      "execution_count": 62,
      "metadata": {
        "jupyter": {
          "source_hidden": false,
          "outputs_hidden": false
        },
        "nteract": {
          "transient": {
            "deleting": false
          }
        }
      }
    },
    {
      "cell_type": "code",
      "source": [
        "# Once the job is complete, you can fetch its results and print them manually\n",
        "res = job.get_results()\n",
        "res"
      ],
      "outputs": [
        {
          "output_type": "stream",
          "name": "stdout",
          "text": "..............."
        },
        {
          "output_type": "execute_result",
          "execution_count": 63,
          "data": {
            "text/plain": "{'[1, 1, 0, 0, 1]': 0.21,\n '[0, 1, 1, 1, 1]': 0.04,\n '[0, 0, 1, 1, 0]': 0.23,\n '[0, 0, 1, 0, 0]': 0.05,\n '[1, 0, 0, 1, 1]': 0.01,\n '[1, 1, 1, 0, 1]': 0.03,\n '[0, 1, 0, 0, 1]': 0.05,\n '[1, 0, 1, 1, 1]': 0.05,\n '[0, 1, 0, 1, 1]': 0.03,\n '[0, 1, 0, 1, 0]': 0.03,\n '[1, 0, 1, 0, 1]': 0.02,\n '[1, 0, 1, 0, 0]': 0.01,\n '[0, 0, 0, 0, 0]': 0.03,\n '[1, 0, 1, 1, 0]': 0.03,\n '[0, 1, 1, 0, 1]': 0.01,\n '[0, 0, 0, 1, 0]': 0.02,\n '[0, 1, 1, 0, 0]': 0.01,\n '[0, 0, 0, 0, 1]': 0.02,\n '[1, 0, 0, 0, 1]': 0.02,\n '[1, 0, 0, 1, 0]': 0.02,\n '[0, 1, 0, 0, 0]': 0.01,\n '[1, 1, 0, 1, 1]': 0.01,\n '[1, 1, 0, 0, 0]': 0.02,\n '[1, 1, 0, 1, 0]': 0.01,\n '[0, 1, 1, 1, 0]': 0.02,\n '[0, 0, 1, 0, 1]': 0.01}"
          },
          "metadata": {}
        }
      ],
      "execution_count": 63,
      "metadata": {
        "jupyter": {
          "source_hidden": false,
          "outputs_hidden": false
        },
        "nteract": {
          "transient": {
            "deleting": false
          }
        }
      }
    },
    {
      "cell_type": "code",
      "source": [
        "def plot_job_results(jobId, iter, sim):\n",
        "    # Fetch job results for the given jobId and plot them.\n",
        "    # \"iter\" and \"sim\" parameters are used to make the plot header more descriptive\n",
        "    job = workspace.get_job(jobId)\n",
        "    res = job.get_results()\n",
        "    print(res)\n",
        "\n",
        "    # Get keys and values, and convert keys from lists of bits to bitstrings\n",
        "    keys, outputFreq = zip(*sorted(res.items()))\n",
        "    keys = [key[1:-1].replace(\", \", \"\") for key in keys]\n",
        "    keyLen = len(keys[0])\n",
        "\n",
        "    # Generate correct bitstrings\n",
        "    firstBitString = \"\"\n",
        "    secondBitString = \"\"\n",
        "    for i in range(keyLen):\n",
        "        firstBitString += str((i // 2) % 2)\n",
        "        secondBitString += str(1 - (i // 2) % 2)\n",
        "\n",
        "    # Find the indices of correct answers in the array of keys\n",
        "    firstBitStringLoc = min(keys.index(firstBitString), keys.index(secondBitString))\n",
        "    secondBitStringLoc = max(keys.index(firstBitString), keys.index(secondBitString))\n",
        "\n",
        "    # Plot the frequencies of all keys, with red color marking correct answers and blue - incorrect ones\n",
        "    plt.bar(keys[0:firstBitStringLoc], outputFreq[0:firstBitStringLoc], color = \"blue\")\n",
        "    plt.bar(keys[firstBitStringLoc], outputFreq[firstBitStringLoc], color = \"red\")\n",
        "    plt.bar(keys[firstBitStringLoc+1:secondBitStringLoc], outputFreq[firstBitStringLoc+1:secondBitStringLoc], color = \"blue\")\n",
        "    plt.bar(keys[secondBitStringLoc], outputFreq[secondBitStringLoc], color = \"red\")\n",
        "    plt.bar(keys[secondBitStringLoc+1:], outputFreq[secondBitStringLoc+1:], color = \"blue\")\n",
        "    plt.xticks(rotation=90)\n",
        "    plt.title(\"{} results for N = {} iter = {}\".format(sim, keyLen, iter))\n",
        "    plt.show()"
      ],
      "outputs": [],
      "execution_count": 64,
      "metadata": {
        "jupyter": {
          "source_hidden": false,
          "outputs_hidden": false
        },
        "nteract": {
          "transient": {
            "deleting": false
          }
        }
      }
    },
    {
      "cell_type": "code",
      "source": [
        "plot_job_results(job.id, iterations, \"quantinuum !\")"
      ],
      "outputs": [
        {
          "output_type": "stream",
          "name": "stdout",
          "text": "{'[1, 1, 0, 0, 1]': 0.21, '[0, 1, 1, 1, 1]': 0.04, '[0, 0, 1, 1, 0]': 0.23, '[0, 0, 1, 0, 0]': 0.05, '[1, 0, 0, 1, 1]': 0.01, '[1, 1, 1, 0, 1]': 0.03, '[0, 1, 0, 0, 1]': 0.05, '[1, 0, 1, 1, 1]': 0.05, '[0, 1, 0, 1, 1]': 0.03, '[0, 1, 0, 1, 0]': 0.03, '[1, 0, 1, 0, 1]': 0.02, '[1, 0, 1, 0, 0]': 0.01, '[0, 0, 0, 0, 0]': 0.03, '[1, 0, 1, 1, 0]': 0.03, '[0, 1, 1, 0, 1]': 0.01, '[0, 0, 0, 1, 0]': 0.02, '[0, 1, 1, 0, 0]': 0.01, '[0, 0, 0, 0, 1]': 0.02, '[1, 0, 0, 0, 1]': 0.02, '[1, 0, 0, 1, 0]': 0.02, '[0, 1, 0, 0, 0]': 0.01, '[1, 1, 0, 1, 1]': 0.01, '[1, 1, 0, 0, 0]': 0.02, '[1, 1, 0, 1, 0]': 0.01, '[0, 1, 1, 1, 0]': 0.02, '[0, 0, 1, 0, 1]': 0.01}\n"
        },
        {
          "output_type": "display_data",
          "data": {
            "text/plain": "<Figure size 640x480 with 1 Axes>",
            "image/png": "[encoded data removed]"
          },
          "metadata": {}
        }
      ],
      "execution_count": 65,
      "metadata": {
        "jupyter": {
          "source_hidden": false,
          "outputs_hidden": false
        },
        "nteract": {
          "transient": {
            "deleting": false
          }
        }
      }
    },
    {
      "cell_type": "markdown",
      "source": [
        "The above Grover's search algorithm executed on Rigetti and Quantinuum quantum computers, encompassing experiments with 3, 4, and 5 qubits for 1, 2, and 3 iterations, respectively. Common across the charts is the presence of one or two bars markedly higher than the others, which is indicative of Grover's algorithm amplifying the probabilities of certain states, likely the correct answers the algorithm is designed to search for. This pattern is consistent with the expected probabilistic nature of quantum algorithms, where certain states are amplified over others to facilitate their measurement and subsequent identification as solutions.\n",
        "\n",
        "The results vary slightly based on the number of qubits and iterations used. With fewer qubits (3 and 4), the algorithm's confidence in the solutions appears more pronounced, as evidenced by the taller bars. As the number of qubits increases to 5, the results become less distinct, suggesting that more iterations might be needed to achieve similar levels of confidence in the solutions. Quantinuum's charts, in general, show a clearer distinction between the solutions and non-solutions, especially with 4 qubits and 2 iterations, indicating a possible edge in performance or algorithm implementation on this quantum computer compared to Rigetti for the given parameters.\n",
        "\n",
        "\n",
        "In a noiseless quantum system, the results from Grover's algorithm would likely show even more pronounced peaks for the correct solutions due to the lack of decoherence and error rates that can cause a spread in the probability distribution. The absence of noise would result in less probability leakage to the incorrect states, leading to cleaner and more distinct results. The bars representing the correct solutions would be expected to be substantially taller, with very minimal heights for all other states, thus reflecting higher fidelity in the algorithm's output.\n",
        "\n",
        "As the problem size increases, which in this context means increasing the number of qubits, the search space grows exponentially. While Grover's algorithm theoretically provides a quadratic speedup over classical search algorithms, the presence of noise and imperfections in current quantum hardware could become more pronounced with larger numbers of qubits. This means that the clarity of the results could be obscured as the number of qubits increases, with the correct states being less amplified compared to the rest. The iterations would likely need to be carefully tuned to maximize the amplitude of correct solutions. However, as quantum error correction and noise mitigation techniques advance, we would expect the results to improve and potentially approach the clarity of noiseless results, despite the larger problem sizes."
      ],
      "metadata": {
        "nteract": {
          "transient": {
            "deleting": false
          }
        }
      }
    },
    {
      "cell_type": "markdown",
      "source": [],
      "metadata": {
        "nteract": {
          "transient": {
            "deleting": false
          }
        }
      }
    }
  ],
  "metadata": {
    "kernel_info": {
      "name": "python3"
    },
    "kernelspec": {
      "name": "python3",
      "language": "python",
      "display_name": "Python 3 (ipykernel)"
    },
    "language_info": {
      "name": "python",
      "version": "3.9.18",
      "mimetype": "text/x-python",
      "codemirror_mode": {
        "name": "ipython",
        "version": 3
      },
      "pygments_lexer": "ipython3",
      "nbconvert_exporter": "python",
      "file_extension": ".py"
    },
    "nteract": {
      "version": "nteract-front-end@1.0.0"
    },
    "vscode": {
      "interpreter": {
        "hash": "1cde0123ad091c17bb3dac1610a1b00e4cc7ccaccc904fd2e4f3100417f26ae7"
      }
    }
  },
  "nbformat": 4,
  "nbformat_minor": 2
}