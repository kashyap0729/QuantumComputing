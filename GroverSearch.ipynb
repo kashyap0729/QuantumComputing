{
  "cells": [
    {
      "cell_type": "markdown",
      "metadata": {},
      "source": [
        "# Programming Assignment 7. Exploring Grover's Search Algorithm\n",
        "\n",
        "In this assignment, you will explore the behavior of Grover's search algorithm on problem instances of increasing size. The problem we'll consider is finding bit strings that consisting of alternating bit pairs."
      ]
    },
    {
      "cell_type": "code",
      "execution_count": 2,
      "metadata": {},
      "outputs": [
        {
          "data": {
            "application/javascript": "// Copyright (c) Microsoft Corporation.\n// Licensed under the MIT License.\n\n// This file provides CodeMirror syntax highlighting for Q# magic cells\n// in classic Jupyter Notebooks. It does nothing in other (Jupyter Notebook 7,\n// VS Code, Azure Notebooks, etc.) environments.\n\n// Detect the prerequisites and do nothing if they don't exist.\nif (window.require && window.CodeMirror && window.Jupyter) {\n  // The simple mode plugin for CodeMirror is not loaded by default, so require it.\n  window.require([\"codemirror/addon/mode/simple\"], function defineMode() {\n    let rules = [\n      {\n        token: \"comment\",\n        regex: /(\\/\\/).*/,\n        beginWord: false,\n      },\n      {\n        token: \"string\",\n        regex: String.raw`^\\\"(?:[^\\\"\\\\]|\\\\[\\s\\S])*(?:\\\"|$)`,\n        beginWord: false,\n      },\n      {\n        token: \"keyword\",\n        regex: String.raw`(namespace|open|as|operation|function|body|adjoint|newtype|controlled|internal)\\b`,\n        beginWord: true,\n      },\n      {\n        token: \"keyword\",\n        regex: String.raw`(if|elif|else|repeat|until|fixup|for|in|return|fail|within|apply)\\b`,\n        beginWord: true,\n      },\n      {\n        token: \"keyword\",\n        regex: String.raw`(Adjoint|Controlled|Adj|Ctl|is|self|auto|distribute|invert|intrinsic)\\b`,\n        beginWord: true,\n      },\n      {\n        token: \"keyword\",\n        regex: String.raw`(let|set|use|borrow|mutable)\\b`,\n        beginWord: true,\n      },\n      {\n        token: \"operatorKeyword\",\n        regex: String.raw`(not|and|or)\\b|(w/)`,\n        beginWord: true,\n      },\n      {\n        token: \"operatorKeyword\",\n        regex: String.raw`(=)|(!)|(<)|(>)|(\\+)|(-)|(\\*)|(/)|(\\^)|(%)|(\\|)|(&&&)|(~~~)|(\\.\\.\\.)|(\\.\\.)|(\\?)`,\n        beginWord: false,\n      },\n      {\n        token: \"meta\",\n        regex: String.raw`(Int|BigInt|Double|Bool|Qubit|Pauli|Result|Range|String|Unit)\\b`,\n        beginWord: true,\n      },\n      {\n        token: \"atom\",\n        regex: String.raw`(true|false|Pauli(I|X|Y|Z)|One|Zero)\\b`,\n        beginWord: true,\n      },\n    ];\n    let simpleRules = [];\n    for (let rule of rules) {\n      simpleRules.push({\n        token: rule.token,\n        regex: new RegExp(rule.regex, \"g\"),\n        sol: rule.beginWord,\n      });\n      if (rule.beginWord) {\n        // Need an additional rule due to the fact that CodeMirror simple mode doesn't work with ^ token\n        simpleRules.push({\n          token: rule.token,\n          regex: new RegExp(String.raw`\\W` + rule.regex, \"g\"),\n          sol: false,\n        });\n      }\n    }\n\n    // Register the mode defined above with CodeMirror\n    window.CodeMirror.defineSimpleMode(\"qsharp\", { start: simpleRules });\n    window.CodeMirror.defineMIME(\"text/x-qsharp\", \"qsharp\");\n\n    // Tell Jupyter to associate %%qsharp magic cells with the qsharp mode\n    window.Jupyter.CodeCell.options_default.highlight_modes[\"qsharp\"] = {\n      reg: [/^%%qsharp/],\n    };\n\n    // Force re-highlighting of all cells the first time this code runs\n    for (const cell of window.Jupyter.notebook.get_cells()) {\n      cell.auto_highlight();\n    }\n  });\n}\n",
            "text/plain": []
          },
          "metadata": {},
          "output_type": "display_data"
        }
      ],
      "source": [
        "import matplotlib.pyplot as plt\n",
        "import qsharp\n"
      ]
    },
    {
      "cell_type": "markdown",
      "metadata": {},
      "source": [
        "## Task 1. Implement the phase oracle (2 points)\n",
        "First we need to define an oracle. \n",
        "For this example we will consider the function $f(x)$ which is equal to 1 when $x$ is a bit string of length $N$ in which odd pairs of adjacent bits are the same and even pairs differ. For any $N$ there will be two possible solutions, one starting with 0 and one starting with 1. So for this example the number of solutions is 2.\n",
        "\n",
        "Our $f$ will look like this:\n",
        "$$\n",
        "f(x) =  \\begin{cases} \n",
        "      1 & x = 00110011\\text{... or }11001100\\text{...}\\\\\n",
        "      0 & \\text{otherwise}\n",
        "   \\end{cases}\n",
        "$$"
      ]
    },
    {
      "cell_type": "code",
      "execution_count": 3,
      "metadata": {
        "microsoft": {
          "language": "qsharp"
        },
        "vscode": {
          "languageId": "qsharp"
        }
      },
      "outputs": [],
      "source": [
        "%%qsharp\n",
        "\n"
      ]
    },
    {
      "cell_type": "code",
      "execution_count": 5,
      "metadata": {
        "microsoft": {
          "language": "qsharp"
        },
        "vscode": {
          "languageId": "qsharp"
        }
      },
      "outputs": [],
      "source": [
        "%%qsharp\n",
        "function BuildPattern(n : Int, flag: Bool) : Bool[] {\n",
        "   mutable pattern = [];\n",
        "   mutable flagElement = false;\n",
        "   if flag == true {\n",
        "      set flagElement = false;\n",
        "   } else {\n",
        "      set flagElement = true;\n",
        "   }\n",
        "   for i in 0..n-1 {\n",
        "      if i % 2 == 0 {\n",
        "         if flagElement == true {\n",
        "            set flagElement = false;\n",
        "         } else {\n",
        "            set flagElement = true;\n",
        "         }\n",
        "      }\n",
        "      set pattern = pattern + [flagElement];\n",
        "   }\n",
        "   return pattern;\n",
        "}\n",
        "operation AlternatingBitPairsOracle(qs : Qubit[]) : Unit {\n",
        "   let n = Length(qs);\n",
        "   let pattern1100 = BuildPattern(n, true);\n",
        "   let pattern0011 = BuildPattern(n, false);\n",
        "    use q = Qubit();\n",
        "    X(q);\n",
        "    ApplyControlledOnBitString(pattern1100, Z, qs, q);\n",
        "    ApplyControlledOnBitString(pattern0011, Z, qs, q);\n",
        "    X(q);\n",
        "}\n"
      ]
    },
    {
      "cell_type": "markdown",
      "metadata": {
        "nteract": {
          "transient": {
            "deleting": false
          }
        }
      },
      "source": [
        "You can use the following wrapper operation to print the effects your oracle has on the even superposition of basis states. \n",
        "\n",
        "**IMPORTANT**: depending on the version of `qsharp` package you're using, the output of `DumpMachine` will differ. Versions 1.0.34 and earlier reverse the order of qubits in the output, so if you run an oracle that correctly flips the phase of states $|110\\rangle$ and $|001\\rangle$ for a three-qubit state, DumpMachine will show them as $|011\\rangle$ and $|100\\rangle$. Versions 1.1 and later don't reverse the order of qubits, so the output will be as expected. You can check which version you're using from the notebook, by runinng `!pip list` in a separate cell and looking for `qsharp` package in the output."
      ]
    },
    {
      "cell_type": "code",
      "execution_count": 6,
      "metadata": {
        "jupyter": {
          "outputs_hidden": false,
          "source_hidden": false
        },
        "microsoft": {
          "language": "qsharp"
        },
        "nteract": {
          "transient": {
            "deleting": false
          }
        },
        "vscode": {
          "languageId": "qsharp"
        }
      },
      "outputs": [],
      "source": [
        "%%qsharp\n",
        "open Microsoft.Quantum.Diagnostics;\n",
        "\n",
        "// The operation that applies the oracle to an even superposition of all inputs and prints the resulting state\n",
        "operation DemoWrapper(N : Int) : Unit {\n",
        "    use qs = Qubit[N];\n",
        "    ApplyToEach(H, qs); \n",
        "    AlternatingBitPairsOracle(qs);\n",
        "    DumpMachine();\n",
        "    ResetAll(qs);\n",
        "}\n",
        "\n"
      ]
    },
    {
      "cell_type": "code",
      "execution_count": 7,
      "metadata": {
        "jupyter": {
          "outputs_hidden": false,
          "source_hidden": false
        },
        "nteract": {
          "transient": {
            "deleting": false
          }
        }
      },
      "outputs": [
        {
          "name": "stdout",
          "output_type": "stream",
          "text": [
            "STATE:\n",
            "|00000⟩: −0.1768+0.0000𝑖\n",
            "|00001⟩: 0.1768+0.0000𝑖\n",
            "|00010⟩: 0.1768+0.0000𝑖\n",
            "|00011⟩: 0.1768+0.0000𝑖\n",
            "|00100⟩: 0.1768+0.0000𝑖\n",
            "|00101⟩: 0.1768+0.0000𝑖\n",
            "|00110⟩: 0.1768+0.0000𝑖\n",
            "|00111⟩: 0.1768+0.0000𝑖\n",
            "|01000⟩: 0.1768+0.0000𝑖\n",
            "|01001⟩: 0.1768+0.0000𝑖\n",
            "|01010⟩: 0.1768+0.0000𝑖\n",
            "|01011⟩: 0.1768+0.0000𝑖\n",
            "|01100⟩: 0.1768+0.0000𝑖\n",
            "|01101⟩: 0.1768+0.0000𝑖\n",
            "|01110⟩: 0.1768+0.0000𝑖\n",
            "|01111⟩: 0.1768+0.0000𝑖\n",
            "|10000⟩: 0.1768+0.0000𝑖\n",
            "|10001⟩: 0.1768+0.0000𝑖\n",
            "|10010⟩: 0.1768+0.0000𝑖\n",
            "|10011⟩: 0.1768+0.0000𝑖\n",
            "|10100⟩: 0.1768+0.0000𝑖\n",
            "|10101⟩: 0.1768+0.0000𝑖\n",
            "|10110⟩: 0.1768+0.0000𝑖\n",
            "|10111⟩: 0.1768+0.0000𝑖\n",
            "|11000⟩: 0.1768+0.0000𝑖\n",
            "|11001⟩: 0.1768+0.0000𝑖\n",
            "|11010⟩: 0.1768+0.0000𝑖\n",
            "|11011⟩: 0.1768+0.0000𝑖\n",
            "|11100⟩: 0.1768+0.0000𝑖\n",
            "|11101⟩: 0.1768+0.0000𝑖\n",
            "|11110⟩: 0.1768+0.0000𝑖\n",
            "|11111⟩: −0.1768+0.0000𝑖\n"
          ]
        }
      ],
      "source": [
        "qsharp.eval(\"DemoWrapper(5)\")\n"
      ]
    },
    {
      "cell_type": "markdown",
      "metadata": {},
      "source": [
        "## Task 2. How far can you optimize your solution? (3 points)\n",
        "\n",
        "You can use the code below to estimate the resources required to run your solution. The scoring is done based on the case of $N = 5$.\n",
        "\n",
        "* If your solution gets a score above 1500, you'll get 0 points.\n",
        "* If your solution gets a score between 1000 and 1500, you'll get 1 point.\n",
        "* If your solution gets a score between 500 and 1000, you'll get 2 points.\n",
        "* If your solution gets a score under 500, you'll get 3 points."
      ]
    },
    {
      "cell_type": "code",
      "execution_count": 6,
      "metadata": {
        "jupyter": {
          "outputs_hidden": false,
          "source_hidden": false
        },
        "microsoft": {
          "language": "qsharp"
        },
        "nteract": {
          "transient": {
            "deleting": false
          }
        },
        "vscode": {
          "languageId": "qsharp"
        }
      },
      "outputs": [],
      "source": [
        "%%qsharp\n",
        "open Microsoft.Quantum.Measurement;\n",
        "operation AlternatingBitPairsOracleWrapper(N : Int) : Result[] {\n",
        "    use qs = Qubit[N];\n",
        "    AlternatingBitPairsOracle(qs);\n",
        "    return MeasureEachZ(qs);\n",
        "}\n"
      ]
    },
    {
      "cell_type": "code",
      "execution_count": 7,
      "metadata": {
        "jupyter": {
          "outputs_hidden": false,
          "source_hidden": false
        },
        "nteract": {
          "transient": {
            "deleting": false
          }
        }
      },
      "outputs": [
        {
          "name": "stdout",
          "output_type": "stream",
          "text": [
            "Logical algorithmic qubits = 28\n",
            "Algorithmic depth = 59\n",
            "Score = 1652\n"
          ]
        },
        {
          "data": {
            "text/plain": [
              "1652"
            ]
          },
          "execution_count": 7,
          "metadata": {},
          "output_type": "execute_result"
        }
      ],
      "source": [
        "# The function that extracts the relevant resource information from the resource estimation job results and produces your absolute score.\n",
        "def evaluate_results(res) : \n",
        "    width = res['physicalCounts']['breakdown']['algorithmicLogicalQubits']\n",
        "    depth = res['physicalCounts']['breakdown']['algorithmicLogicalDepth']\n",
        "    print(f\"Logical algorithmic qubits = {width}\")\n",
        "    print(f\"Algorithmic depth = {depth}\")\n",
        "    print(f\"Score = {width * depth}\")\n",
        "    return width * depth\n",
        "\n",
        "est = qsharp.estimate(\"AlternatingBitPairsOracleWrapper(5)\")\n",
        "evaluate_results(est)\n"
      ]
    },
    {
      "cell_type": "markdown",
      "metadata": {
        "nteract": {
          "transient": {
            "deleting": false
          }
        }
      },
      "source": [
        "### Task 3. Find the optimal number of iterations for $N = 3, 4, 5$ (2 points)\n",
        "\n",
        "The next cell implements Grover's search algorithm that takes two parameters: the number of bits in the strings we're looking for, and the number of iterations to run the algorithm for before measurement. \n",
        "\n",
        "Your task is to calculate the optimal number of iterations for $N = 3, 4, 5$ based on the size of the search space and the known number of problem solutions."
      ]
    },
    {
      "cell_type": "code",
      "execution_count": 18,
      "metadata": {
        "jupyter": {
          "outputs_hidden": false,
          "source_hidden": false
        },
        "microsoft": {
          "language": "qsharp"
        },
        "nteract": {
          "transient": {
            "deleting": false
          }
        },
        "vscode": {
          "languageId": "qsharp"
        }
      },
      "outputs": [],
      "source": [
        "%%qsharp\n",
        "open Microsoft.Quantum.Measurement;\n",
        "operation Grovers(N : Int, iterations : Int) : Result[] {\n",
        "    use qs = Qubit[N];\n",
        "    ApplyToEach(H, qs);\n",
        "\n",
        "    for i in 1 .. iterations {\n",
        "        AlternatingBitPairsOracle(qs);\n",
        "        \n",
        "        within {\n",
        "            ApplyToEachA(H, qs);\n",
        "            ApplyToEachA(X, qs);\n",
        "        } apply {\n",
        "            Controlled Z(qs[...N - 2], qs[N - 1]);\n",
        "        }\n",
        "    }\n",
        "    let res = MeasureEachZ(qs);\n",
        "    ResetAll(qs);\n",
        "    return res;\n",
        "}\n"
      ]
    },
    {
      "cell_type": "markdown",
      "metadata": {},
      "source": [
        "You can run a single simulation to see whether the measurement produced a state that is a solution to our problem. "
      ]
    },
    {
      "cell_type": "code",
      "execution_count": 17,
      "metadata": {},
      "outputs": [
        {
          "ename": "QSharpError",
          "evalue": "\u001b[31mQsc.Resolve.NotFound\u001b[0m\n\n  \u001b[31m×\u001b[0m name error\n\u001b[31m  ╰─▶ \u001b[0m`Grovers` not found\n   ╭─[\u001b[36;1;4mline_3\u001b[0m:1:1]\n \u001b[2m1\u001b[0m │ Grovers(4, 1)\n   · \u001b[35;1m───────\u001b[0m\n   ╰────\n\u001b[31mQsc.TypeCk.AmbiguousTy\u001b[0m\n\n  \u001b[31m×\u001b[0m type error\n\u001b[31m  ╰─▶ \u001b[0minsufficient type information to infer type\n   ╭─[\u001b[36;1;4mline_3\u001b[0m:1:1]\n \u001b[2m1\u001b[0m │ Grovers(4, 1)\n   · \u001b[35;1m─────────────\u001b[0m\n   ╰────\n\u001b[36m  help: \u001b[0mprovide a type annotation\n",
          "output_type": "error",
          "traceback": [
            "\u001b[0;31m---------------------------------------------------------------------------\u001b[0m",
            "\u001b[0;31mQSharpError\u001b[0m                               Traceback (most recent call last)",
            "Cell \u001b[0;32mIn[17], line 1\u001b[0m\n\u001b[0;32m----> 1\u001b[0m \u001b[43mqsharp\u001b[49m\u001b[38;5;241;43m.\u001b[39;49m\u001b[43meval\u001b[49m\u001b[43m(\u001b[49m\u001b[38;5;124;43m\"\u001b[39;49m\u001b[38;5;124;43mGrovers(4, 1)\u001b[39;49m\u001b[38;5;124;43m\"\u001b[39;49m\u001b[43m)\u001b[49m\n",
            "File \u001b[0;32m/usr/local/lib/python3.9/site-packages/qsharp/_qsharp.py:120\u001b[0m, in \u001b[0;36meval\u001b[0;34m(source)\u001b[0m\n\u001b[1;32m    117\u001b[0m \u001b[38;5;28;01mdef\u001b[39;00m \u001b[38;5;21mcallback\u001b[39m(output: Output) \u001b[38;5;241m-\u001b[39m\u001b[38;5;241m>\u001b[39m \u001b[38;5;28;01mNone\u001b[39;00m:\n\u001b[1;32m    118\u001b[0m     \u001b[38;5;28mprint\u001b[39m(output)\n\u001b[0;32m--> 120\u001b[0m \u001b[38;5;28;01mreturn\u001b[39;00m \u001b[43mget_interpreter\u001b[49m\u001b[43m(\u001b[49m\u001b[43m)\u001b[49m\u001b[38;5;241;43m.\u001b[39;49m\u001b[43minterpret\u001b[49m\u001b[43m(\u001b[49m\u001b[43msource\u001b[49m\u001b[43m,\u001b[49m\u001b[43m \u001b[49m\u001b[43mcallback\u001b[49m\u001b[43m)\u001b[49m\n",
            "\u001b[0;31mQSharpError\u001b[0m: \u001b[31mQsc.Resolve.NotFound\u001b[0m\n\n  \u001b[31m×\u001b[0m name error\n\u001b[31m  ╰─▶ \u001b[0m`Grovers` not found\n   ╭─[\u001b[36;1;4mline_3\u001b[0m:1:1]\n \u001b[2m1\u001b[0m │ Grovers(4, 1)\n   · \u001b[35;1m───────\u001b[0m\n   ╰────\n\u001b[31mQsc.TypeCk.AmbiguousTy\u001b[0m\n\n  \u001b[31m×\u001b[0m type error\n\u001b[31m  ╰─▶ \u001b[0minsufficient type information to infer type\n   ╭─[\u001b[36;1;4mline_3\u001b[0m:1:1]\n \u001b[2m1\u001b[0m │ Grovers(4, 1)\n   · \u001b[35;1m─────────────\u001b[0m\n   ╰────\n\u001b[36m  help: \u001b[0mprovide a type annotation\n"
          ]
        }
      ],
      "source": [
        "qsharp.eval(\"Grovers(4, 1)\")\n"
      ]
    },
    {
      "cell_type": "markdown",
      "metadata": {},
      "source": [
        "You can also run a series of simulations on a local simulator to see the percentage of shots for which a query returns a correct answer."
      ]
    },
    {
      "cell_type": "code",
      "execution_count": 8,
      "metadata": {},
      "outputs": [
        {
          "ename": "QSharpError",
          "evalue": "\u001b[31mQsc.Resolve.NotFound\u001b[0m\n\n  \u001b[31m×\u001b[0m name error\n\u001b[31m  ╰─▶ \u001b[0m`Grovers` not found\n   ╭─[\u001b[36;1;4m<entry>\u001b[0m:1:1]\n \u001b[2m1\u001b[0m │ Grovers(4, 1)\n   · \u001b[35;1m───────\u001b[0m\n   ╰────\n\u001b[31mQsc.TypeCk.AmbiguousTy\u001b[0m\n\n  \u001b[31m×\u001b[0m type error\n\u001b[31m  ╰─▶ \u001b[0minsufficient type information to infer type\n   ╭─[\u001b[36;1;4m<entry>\u001b[0m:1:1]\n \u001b[2m1\u001b[0m │ Grovers(4, 1)\n   · \u001b[35;1m─────────────\u001b[0m\n   ╰────\n\u001b[36m  help: \u001b[0mprovide a type annotation\n",
          "output_type": "error",
          "traceback": [
            "\u001b[1;31m---------------------------------------------------------------------------\u001b[0m",
            "\u001b[1;31mQSharpError\u001b[0m                               Traceback (most recent call last)",
            "Cell \u001b[1;32mIn[8], line 8\u001b[0m\n\u001b[0;32m      6\u001b[0m shots \u001b[38;5;241m=\u001b[39m \u001b[38;5;241m100\u001b[39m\n\u001b[0;32m      7\u001b[0m correctCount \u001b[38;5;241m=\u001b[39m \u001b[38;5;241m0\u001b[39m\n\u001b[1;32m----> 8\u001b[0m results \u001b[38;5;241m=\u001b[39m qsharp\u001b[38;5;241m.\u001b[39mrun(\u001b[38;5;124mf\u001b[39m\u001b[38;5;124m\"\u001b[39m\u001b[38;5;124mGrovers(\u001b[39m\u001b[38;5;132;01m{\u001b[39;00mN\u001b[38;5;132;01m}\u001b[39;00m\u001b[38;5;124m, \u001b[39m\u001b[38;5;132;01m{\u001b[39;00miterations\u001b[38;5;132;01m}\u001b[39;00m\u001b[38;5;124m)\u001b[39m\u001b[38;5;124m\"\u001b[39m, shots\u001b[38;5;241m=\u001b[39mshots)\n\u001b[0;32m     10\u001b[0m \u001b[38;5;28;01mfor\u001b[39;00m res \u001b[38;5;129;01min\u001b[39;00m results:\n\u001b[0;32m     11\u001b[0m     \u001b[38;5;28;01mif\u001b[39;00m res \u001b[38;5;241m==\u001b[39m target1 \u001b[38;5;129;01mor\u001b[39;00m res \u001b[38;5;241m==\u001b[39m target2:\n",
            "File \u001b[1;32mc:\\Users\\kashy\\anaconda3\\Lib\\site-packages\\qsharp\\_qsharp.py:165\u001b[0m, in \u001b[0;36mrun\u001b[1;34m(entry_expr, shots, on_result, save_events)\u001b[0m\n\u001b[0;32m    163\u001b[0m \u001b[38;5;28;01mfor\u001b[39;00m _ \u001b[38;5;129;01min\u001b[39;00m \u001b[38;5;28mrange\u001b[39m(shots):\n\u001b[0;32m    164\u001b[0m     results\u001b[38;5;241m.\u001b[39mappend({\u001b[38;5;124m\"\u001b[39m\u001b[38;5;124mresult\u001b[39m\u001b[38;5;124m\"\u001b[39m: \u001b[38;5;28;01mNone\u001b[39;00m, \u001b[38;5;124m\"\u001b[39m\u001b[38;5;124mevents\u001b[39m\u001b[38;5;124m\"\u001b[39m: []})\n\u001b[1;32m--> 165\u001b[0m     run_results \u001b[38;5;241m=\u001b[39m get_interpreter()\u001b[38;5;241m.\u001b[39mrun(\n\u001b[0;32m    166\u001b[0m         entry_expr, on_save_events \u001b[38;5;28;01mif\u001b[39;00m save_events \u001b[38;5;28;01melse\u001b[39;00m print_output\n\u001b[0;32m    167\u001b[0m     )\n\u001b[0;32m    168\u001b[0m     results[\u001b[38;5;241m-\u001b[39m\u001b[38;5;241m1\u001b[39m][\u001b[38;5;124m\"\u001b[39m\u001b[38;5;124mresult\u001b[39m\u001b[38;5;124m\"\u001b[39m] \u001b[38;5;241m=\u001b[39m run_results\n\u001b[0;32m    169\u001b[0m     \u001b[38;5;28;01mif\u001b[39;00m on_result:\n",
            "\u001b[1;31mQSharpError\u001b[0m: \u001b[31mQsc.Resolve.NotFound\u001b[0m\n\n  \u001b[31m×\u001b[0m name error\n\u001b[31m  ╰─▶ \u001b[0m`Grovers` not found\n   ╭─[\u001b[36;1;4m<entry>\u001b[0m:1:1]\n \u001b[2m1\u001b[0m │ Grovers(4, 1)\n   · \u001b[35;1m───────\u001b[0m\n   ╰────\n\u001b[31mQsc.TypeCk.AmbiguousTy\u001b[0m\n\n  \u001b[31m×\u001b[0m type error\n\u001b[31m  ╰─▶ \u001b[0minsufficient type information to infer type\n   ╭─[\u001b[36;1;4m<entry>\u001b[0m:1:1]\n \u001b[2m1\u001b[0m │ Grovers(4, 1)\n   · \u001b[35;1m─────────────\u001b[0m\n   ╰────\n\u001b[36m  help: \u001b[0mprovide a type annotation\n"
          ]
        }
      ],
      "source": [
        "N = 4\n",
        "iterations = 1\n",
        "\n",
        "target1 = [qsharp.Result.One if (i // 2) % 2 == 1 else qsharp.Result.Zero for i in range(N)]\n",
        "target2 = [qsharp.Result.One if (i // 2) % 2 == 1 else qsharp.Result.Zero for i in range(2, N+2)]\n",
        "shots = 100\n",
        "correctCount = 0\n",
        "results = qsharp.run(f\"Grovers({N}, {iterations})\", shots=shots)\n",
        "\n",
        "for res in results:\n",
        "    if res == target1 or res == target2:\n",
        "        correctCount += 1\n",
        "\n",
        "print(f\"N={N}, iter={iterations} - {100 * correctCount/shots}% of queries returned a correct answer\")\n",
        "\n"
      ]
    },
    {
      "cell_type": "markdown",
      "metadata": {},
      "source": [
        "## Tasks 4-5. Run Grover's search for $N = 3, 4, 5$ on noiseless Rigetti simulator (1 point) and noisy Quantinuum emulator (2 points)\n",
        "\n",
        "* Run the Grover's search algorithm for the oracle you've implemented on Rigetti or IonQ noiseless simulator (`rigetti.sim.qvm` or `ionq.simulator`) for $N = 3, 4, 5$.\n",
        "* Run the Grover's search algorithm for the oracle you've implemented on Quantinuum noisy emulator (`quantinuum.sim.h1-1e`) for $N = 3, 4, 5$.\n",
        "* Plot the results in a 2x3 or 3x2 table to compare the results on the same problem instance side-by-side."
      ]
    },
    {
      "cell_type": "code",
      "execution_count": 11,
      "metadata": {},
      "outputs": [
        {
          "data": {
            "application/x.qsharp-config": "{\"targetProfile\":\"base\"}",
            "text/plain": [
              "Q# initialized with configuration: {'targetProfile': 'base'}"
            ]
          },
          "execution_count": 11,
          "metadata": {},
          "output_type": "execute_result"
        }
      ],
      "source": [
        "from azure.quantum import Workspace\n",
        "\n",
        "workspace = Workspace(\n",
        "            resource_id = \"/subscriptions/f5293a35-391c-46ba-ac13-97278ebecdc4/resourceGroups/AzureQuantum/providers/Microsoft.Quantum/Workspaces/CSYE6105\",\n",
        "            location = \"eastus\")\n",
        "\n",
        "qsharp.init(target_profile=qsharp.TargetProfile.Base)\n"
      ]
    },
    {
      "cell_type": "markdown",
      "metadata": {
        "nteract": {
          "transient": {
            "deleting": false
          }
        }
      },
      "source": [
        "**IMPORTANT:** After you call `qsharp.init`, you'll need to recompile the cells that define the oracle and Grover's search before proceeding."
      ]
    },
    {
      "cell_type": "code",
      "execution_count": 12,
      "metadata": {},
      "outputs": [],
      "source": [
        "# Select the target here\n",
        "target = workspace.get_targets(\"ionq.simulator\")\n"
      ]
    },
    {
      "cell_type": "code",
      "execution_count": 19,
      "metadata": {},
      "outputs": [],
      "source": [
        "N = 4\n",
        "iterations = 1\n",
        "\n",
        "program = qsharp.compile(f\"Grovers({N}, {iterations})\")\n",
        "job = target.submit(program, f\"Alternating bit pairs (Grover): N={N}, iter={iterations}\", shots=1000)\n"
      ]
    },
    {
      "cell_type": "code",
      "execution_count": 20,
      "metadata": {},
      "outputs": [
        {
          "name": "stdout",
          "output_type": "stream",
          "text": [
            "........."
          ]
        },
        {
          "data": {
            "text/plain": [
              "{'[0, 0, 0, 0]': 0.015151515151515152,\n",
              " '[1, 0, 0, 0]': 0.015151515151515152,\n",
              " '[0, 1, 0, 0]': 0.015151515151515152,\n",
              " '[1, 1, 0, 0]': 0.3939393939393939,\n",
              " '[0, 0, 1, 0]': 0.015151515151515152,\n",
              " '[1, 0, 1, 0]': 0.015151515151515152,\n",
              " '[0, 1, 1, 0]': 0.015151515151515152,\n",
              " '[1, 1, 1, 0]': 0.015151515151515152,\n",
              " '[0, 0, 0, 1]': 0.015151515151515152,\n",
              " '[1, 0, 0, 1]': 0.015151515151515152,\n",
              " '[0, 1, 0, 1]': 0.015151515151515152,\n",
              " '[1, 1, 0, 1]': 0.015151515151515152,\n",
              " '[0, 0, 1, 1]': 0.3939393939393939,\n",
              " '[1, 0, 1, 1]': 0.015151515151515152,\n",
              " '[0, 1, 1, 1]': 0.015151515151515152,\n",
              " '[1, 1, 1, 1]': 0.015151515151515152}"
            ]
          },
          "execution_count": 20,
          "metadata": {},
          "output_type": "execute_result"
        }
      ],
      "source": [
        "# Once the job is complete, you can fetch its results and print them manually\n",
        "res = job.get_results()\n",
        "res\n"
      ]
    },
    {
      "cell_type": "markdown",
      "metadata": {
        "nteract": {
          "transient": {
            "deleting": false
          }
        }
      },
      "source": [
        "The cells below allow you to fetch job results based on its ID and plot them, highlighting the results that correspond to the correct answers."
      ]
    },
    {
      "cell_type": "code",
      "execution_count": 21,
      "metadata": {},
      "outputs": [],
      "source": [
        "def plot_job_results(jobId, iter, sim):\n",
        "    # Fetch job results for the given jobId and plot them.\n",
        "    # \"iter\" and \"sim\" parameters are used to make the plot header more descriptive\n",
        "    job = workspace.get_job(jobId)\n",
        "    res = job.get_results()\n",
        "    print(res)\n",
        "\n",
        "    # Get keys and values, and convert keys from lists of bits to bitstrings\n",
        "    keys, outputFreq = zip(*sorted(res.items()))\n",
        "    keys = [key[1:-1].replace(\", \", \"\") for key in keys]\n",
        "    keyLen = len(keys[0])\n",
        "\n",
        "    # Generate correct bitstrings\n",
        "    firstBitString = \"\"\n",
        "    secondBitString = \"\"\n",
        "    for i in range(keyLen):\n",
        "        firstBitString += str((i // 2) % 2)\n",
        "        secondBitString += str(1 - (i // 2) % 2)\n",
        "\n",
        "    # Find the indices of correct answers in the array of keys\n",
        "    firstBitStringLoc = min(keys.index(firstBitString), keys.index(secondBitString))\n",
        "    secondBitStringLoc = max(keys.index(firstBitString), keys.index(secondBitString))\n",
        "\n",
        "    # Plot the frequencies of all keys, with red color marking correct answers and blue - incorrect ones\n",
        "    plt.bar(keys[0:firstBitStringLoc], outputFreq[0:firstBitStringLoc], color = \"blue\")\n",
        "    plt.bar(keys[firstBitStringLoc], outputFreq[firstBitStringLoc], color = \"red\")\n",
        "    plt.bar(keys[firstBitStringLoc+1:secondBitStringLoc], outputFreq[firstBitStringLoc+1:secondBitStringLoc], color = \"blue\")\n",
        "    plt.bar(keys[secondBitStringLoc], outputFreq[secondBitStringLoc], color = \"red\")\n",
        "    plt.bar(keys[secondBitStringLoc+1:], outputFreq[secondBitStringLoc+1:], color = \"blue\")\n",
        "    plt.xticks(rotation=90)\n",
        "    plt.title(\"{} results for N = {} iter = {}\".format(sim, keyLen, iter))\n",
        "    plt.show()\n"
      ]
    },
    {
      "cell_type": "code",
      "execution_count": 22,
      "metadata": {},
      "outputs": [
        {
          "name": "stdout",
          "output_type": "stream",
          "text": [
            "{'[0, 0, 0, 0]': 0.015151515151515152, '[1, 0, 0, 0]': 0.015151515151515152, '[0, 1, 0, 0]': 0.015151515151515152, '[1, 1, 0, 0]': 0.3939393939393939, '[0, 0, 1, 0]': 0.015151515151515152, '[1, 0, 1, 0]': 0.015151515151515152, '[0, 1, 1, 0]': 0.015151515151515152, '[1, 1, 1, 0]': 0.015151515151515152, '[0, 0, 0, 1]': 0.015151515151515152, '[1, 0, 0, 1]': 0.015151515151515152, '[0, 1, 0, 1]': 0.015151515151515152, '[1, 1, 0, 1]': 0.015151515151515152, '[0, 0, 1, 1]': 0.3939393939393939, '[1, 0, 1, 1]': 0.015151515151515152, '[0, 1, 1, 1]': 0.015151515151515152, '[1, 1, 1, 1]': 0.015151515151515152}\n"
          ]
        },
        {
          "data": {
            "image/png": "[encoded data removed]",
            "text/plain": [
              "<Figure size 640x480 with 1 Axes>"
            ]
          },
          "metadata": {},
          "output_type": "display_data"
        }
      ],
      "source": [
        "plot_job_results(job.id, iterations, \"ionq.simulator\")\n"
      ]
    },
    {
      "cell_type": "code",
      "execution_count": null,
      "metadata": {
        "jupyter": {
          "outputs_hidden": false,
          "source_hidden": false
        },
        "nteract": {
          "transient": {
            "deleting": false
          }
        }
      },
      "outputs": [],
      "source": []
    }
  ],
  "metadata": {
    "kernel_info": {
      "name": "python3"
    },
    "kernelspec": {
      "display_name": "Python 3 (ipykernel)",
      "language": "python",
      "name": "python3"
    },
    "language_info": {
      "codemirror_mode": {
        "name": "ipython",
        "version": 3
      },
      "file_extension": ".py",
      "mimetype": "text/x-python",
      "name": "python",
      "nbconvert_exporter": "python",
      "pygments_lexer": "ipython3",
      "version": "3.11.5"
    },
    "nteract": {
      "version": "nteract-front-end@1.0.0"
    },
    "vscode": {
      "interpreter": {
        "hash": "1cde0123ad091c17bb3dac1610a1b00e4cc7ccaccc904fd2e4f3100417f26ae7"
      }
    }
  },
  "nbformat": 4,
  "nbformat_minor": 2
}
